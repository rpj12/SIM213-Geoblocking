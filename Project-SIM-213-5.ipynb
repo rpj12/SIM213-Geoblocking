{
 "cells": [
  {
   "cell_type": "markdown",
   "metadata": {},
   "source": [
    "# Project SIM213 - Geo-blocking and e-commerce in the European Union\n",
    "### Supervisor: Prof. Lukasz Grzybowski\n",
    "### Team: Maxime Gaby Bustros and Ruila Puskas-Juhasz\n"
   ]
  },
  {
   "cell_type": "code",
   "execution_count": 1,
   "metadata": {},
   "outputs": [],
   "source": [
    "import pandas as pd\n",
    "import matplotlib.pyplot as plt\n",
    "import numpy as np\n",
    "import seaborn as sns"
   ]
  },
  {
   "cell_type": "code",
   "execution_count": 2,
   "metadata": {},
   "outputs": [],
   "source": [
    "import pandas as pd\n",
    "database = pd.read_spss('ZA7554_v1-0-0.sav')"
   ]
  },
  {
   "cell_type": "code",
   "execution_count": 3,
   "metadata": {},
   "outputs": [
    {
     "data": {
      "text/html": [
       "<style>pre { white-space: pre !important; }</style>"
      ],
      "text/plain": [
       "<IPython.core.display.HTML object>"
      ]
     },
     "metadata": {},
     "output_type": "display_data"
    }
   ],
   "source": [
    "## Enables horizontal scrolling for output windows\n",
    "from IPython.core.display import HTML\n",
    "display(HTML(\"<style>pre { white-space: pre !important; }</style>\"))"
   ]
  },
  {
   "cell_type": "code",
   "execution_count": 4,
   "metadata": {},
   "outputs": [],
   "source": [
    "# Deep copy to modify\n",
    "newDatabase = database.copy()"
   ]
  },
  {
   "cell_type": "markdown",
   "metadata": {},
   "source": [
    "## Clean Database"
   ]
  },
  {
   "cell_type": "markdown",
   "metadata": {},
   "source": [
    "### Filter question by yes or no if someone uses the internet"
   ]
  },
  {
   "cell_type": "code",
   "execution_count": 5,
   "metadata": {},
   "outputs": [],
   "source": [
    "newDatabase['d8a'] = newDatabase['d8a'].replace(['Never', 'No Internet access (DO NOT READ OUT)'],'0');\n",
    "newDatabase['d8a'] = newDatabase['d8a'].replace(['DK/NA (DO NOT READ OUT)', 'Two or three times a month', 'Two or three times a week', 'About once a week', 'Every day or almost every day', 'Less often'], '1')"
   ]
  },
  {
   "cell_type": "markdown",
   "metadata": {},
   "source": [
    "### Filter question on download or stream content"
   ]
  },
  {
   "cell_type": "code",
   "execution_count": 6,
   "metadata": {},
   "outputs": [],
   "source": [
    "# Filter q4_1\n",
    "newDatabase['q4_1'] = newDatabase['q4_1'].replace(['NaN', 'Never', 'DK/NA (DO NOT READ OUT)'], '0');\n",
    "newDatabase['q4_1'] = newDatabase['q4_1'].replace(['Less often', 'Every day or almost every day', 'At least once a month', 'At least once a week'],'1');\n",
    "newDatabase['q4_1'].fillna('0', inplace = True);\n",
    "# Filter q4_2\n",
    "newDatabase['q4_2'] = newDatabase['q4_2'].replace(['NaN', 'Never', 'DK/NA (DO NOT READ OUT)'], '0');\n",
    "newDatabase['q4_2'] = newDatabase['q4_2'].replace(['Less often', 'Every day or almost every day', 'At least once a month', 'At least once a week'],'1');\n",
    "newDatabase['q4_2'].fillna('0', inplace = True);\n",
    "# Filter q4_3\n",
    "newDatabase['q4_3'] = newDatabase['q4_3'].replace(['NaN', 'Never', 'DK/NA (DO NOT READ OUT)'], '0');\n",
    "newDatabase['q4_3'] = newDatabase['q4_3'].replace(['Less often', 'Every day or almost every day', 'At least once a month', 'At least once a week'],'1');\n",
    "newDatabase['q4_3'].fillna('0', inplace = True);\n",
    "# Filter q4_4\n",
    "newDatabase['q4_4'] = newDatabase['q4_4'].replace(['NaN', 'Never', 'DK/NA (DO NOT READ OUT)'], '0');\n",
    "newDatabase['q4_4'] = newDatabase['q4_4'].replace(['Less often', 'Every day or almost every day', 'At least once a month', 'At least once a week'],'1');\n",
    "newDatabase['q4_4'].fillna('0', inplace = True);\n",
    "# Filter q4_5\n",
    "newDatabase['q4_5'] = newDatabase['q4_5'].replace(['NaN', 'Never', 'DK/NA (DO NOT READ OUT)'], '0');\n",
    "newDatabase['q4_5'] = newDatabase['q4_5'].replace(['Less often', 'Every day or almost every day', 'At least once a month', 'At least once a week'],'1');\n",
    "newDatabase['q4_5'].fillna('0', inplace = True);"
   ]
  },
  {
   "cell_type": "markdown",
   "metadata": {},
   "source": [
    "### Replace Male female by female 1 or 0"
   ]
  },
  {
   "cell_type": "code",
   "execution_count": 7,
   "metadata": {},
   "outputs": [],
   "source": [
    "newDatabase['d2'] = newDatabase['d2'].replace('Male', '0');\n",
    "newDatabase['d2'] = newDatabase['d2'].replace('Female', '1');"
   ]
  },
  {
   "cell_type": "markdown",
   "metadata": {},
   "source": [
    "### Replace Phone Ownership by 1/0 instead of Yes/No"
   ]
  },
  {
   "cell_type": "code",
   "execution_count": 8,
   "metadata": {},
   "outputs": [],
   "source": [
    "# newDatabase['d18'] = newDatabase['d18'].replace('Yes', '1');\n",
    "# newDatabase['d18'] = newDatabase['d18'].replace(['No', 'NaN'], '0');\n",
    "# newDatabase['d18'].fillna('0', inplace = True);"
   ]
  },
  {
   "cell_type": "code",
   "execution_count": 9,
   "metadata": {},
   "outputs": [],
   "source": [
    "newDatabase['d19'] = newDatabase['d19'].replace(['DK', 'Refusal'], 0);\n",
    "newDatabase['d19'] = newDatabase['d19'].astype('float32')\n",
    "newDatabase['d19'] = newDatabase['d19'].where(newDatabase['d19'] < 1.0,  1)"
   ]
  },
  {
   "cell_type": "code",
   "execution_count": 10,
   "metadata": {},
   "outputs": [
    {
     "name": "stdout",
     "output_type": "stream",
     "text": [
      "1.0    26424\n",
      "0.0      159\n",
      "Name: d19, dtype: int64\n"
     ]
    }
   ],
   "source": [
    "pd.set_option('display.max_rows', 10)\n",
    "print(newDatabase['d19'].value_counts())"
   ]
  },
  {
   "cell_type": "markdown",
   "metadata": {},
   "source": [
    "### Clean Age Values"
   ]
  },
  {
   "cell_type": "code",
   "execution_count": 11,
   "metadata": {},
   "outputs": [],
   "source": [
    "newDatabase['d1'] = newDatabase['d1'].replace('98 years', '98');\n",
    "newDatabase['d1'] = newDatabase['d1'].replace('15 years', '15');"
   ]
  },
  {
   "cell_type": "markdown",
   "metadata": {},
   "source": [
    "### Replace by bought or not bought for each question"
   ]
  },
  {
   "cell_type": "code",
   "execution_count": 12,
   "metadata": {},
   "outputs": [
    {
     "name": "stdout",
     "output_type": "stream",
     "text": [
      "[NaN, Paid per item, Paid a subscription, Free of charge without registration, Free of charge upon registration (including fr..., DK/NA (DO NOT READ OUT)]\n",
      "Categories (5, object): [Paid per item, Paid a subscription, Free of charge without registration, Free of charge upon registration (including fr..., DK/NA (DO NOT READ OUT)]\n"
     ]
    }
   ],
   "source": [
    "print(newDatabase['q5_1'].unique())"
   ]
  },
  {
   "cell_type": "code",
   "execution_count": 13,
   "metadata": {},
   "outputs": [],
   "source": [
    "newDatabase['q5_1'] = newDatabase['q5_1'].replace(['Paid a subscription','Paid per item'], '1');\n",
    "newDatabase['q5_1'] = newDatabase['q5_1'].replace(['Free of charge without registration','DK/NA (DO NOT READ OUT)','Free of charge upon registration (including free subscription)'], '0');\n",
    "newDatabase['q5_1'].fillna('0', inplace = True);\n",
    "\n",
    "newDatabase['q5_2'] = newDatabase['q5_2'].replace(['Paid a subscription','Paid per item'], '1');\n",
    "newDatabase['q5_2'] = newDatabase['q5_2'].replace(['Free of charge without registration','DK/NA (DO NOT READ OUT)','Free of charge upon registration (including free subscription)'], '0');\n",
    "newDatabase['q5_2'].fillna('0', inplace = True);\n",
    "\n",
    "newDatabase['q5_3'] = newDatabase['q5_3'].replace(['Paid a subscription','Paid per item'], '1');\n",
    "newDatabase['q5_3'] = newDatabase['q5_3'].replace(['Free of charge without registration','DK/NA (DO NOT READ OUT)','Free of charge upon registration (including free subscription)'], '0');\n",
    "newDatabase['q5_3'].fillna('0', inplace = True);\n",
    "\n",
    "newDatabase['q5_4'] = newDatabase['q5_4'].replace(['Paid a subscription','Paid per item'], '1');\n",
    "newDatabase['q5_4'] = newDatabase['q5_4'].replace(['Free of charge without registration','DK/NA (DO NOT READ OUT)','Free of charge upon registration (including free subscription)'], '0');\n",
    "newDatabase['q5_4'].fillna('0', inplace = True);\n",
    "\n",
    "newDatabase['q5_5'] = newDatabase['q5_5'].replace(['Paid a subscription','Paid per item'], '1');\n",
    "newDatabase['q5_5'] = newDatabase['q5_5'].replace(['Free of charge without registration','DK/NA (DO NOT READ OUT)','Free of charge upon registration (including free subscription)'], '0');\n",
    "newDatabase['q5_5'].fillna('0', inplace = True);"
   ]
  },
  {
   "cell_type": "code",
   "execution_count": 14,
   "metadata": {},
   "outputs": [],
   "source": [
    "newDatabase['q5_6'] = newDatabase['q5_1'].astype(\"int64\") + newDatabase['q5_2'].astype(\"int64\") + newDatabase['q5_3'].astype(\"int64\") + newDatabase['q5_4'].astype(\"int64\") + newDatabase['q5_5'].astype(\"int64\");\n",
    "newDatabase['q5_6'] = newDatabase['q5_6'].replace([2,3,4,5],1);"
   ]
  },
  {
   "cell_type": "code",
   "execution_count": 15,
   "metadata": {},
   "outputs": [
    {
     "data": {
      "text/plain": [
       "0    20722\n",
       "1     5861\n",
       "Name: q5_6, dtype: int64"
      ]
     },
     "execution_count": 15,
     "metadata": {},
     "output_type": "execute_result"
    }
   ],
   "source": [
    "# Number of people who payed for any type of subscription or service\n",
    "newDatabase['q5_6'].value_counts()"
   ]
  },
  {
   "cell_type": "markdown",
   "metadata": {},
   "source": [
    "### Filter By Country"
   ]
  },
  {
   "cell_type": "code",
   "execution_count": 16,
   "metadata": {},
   "outputs": [],
   "source": [
    "entriesByCountry = {};\n",
    "for i, country in enumerate(newDatabase['tnscntry'].unique()):\n",
    "    arr = [];\n",
    "    for entry in newDatabase['tnscntry']:\n",
    "        if (entry == country):\n",
    "            arr.append(True);\n",
    "        else:\n",
    "            arr.append(False);\n",
    "    entriesByCountry[country] = newDatabase[arr];"
   ]
  },
  {
   "cell_type": "code",
   "execution_count": 17,
   "metadata": {},
   "outputs": [],
   "source": [
    "# average age, percentage of females asked. Age differences acrosse countries."
   ]
  },
  {
   "cell_type": "markdown",
   "metadata": {},
   "source": [
    "### Descriptive Statistics by country"
   ]
  },
  {
   "cell_type": "code",
   "execution_count": 18,
   "metadata": {
    "scrolled": true
   },
   "outputs": [],
   "source": [
    "arr = []\n",
    "for entries in entriesByCountry:\n",
    "    percentInternetUsers = entriesByCountry[entries]['d8a'].astype(\"int64\").mean() * 100;\n",
    "    percentOfFemales = entriesByCountry[entries]['d2'].astype(\"int64\").mean() * 100;\n",
    "    averageAge = entriesByCountry[entries]['d1'].astype('int64').mean();\n",
    "    averagePhoneOwnership = entriesByCountry[entries]['d19'].astype('float64').mean() * 100;\n",
    "    percentageOfOnlineCustomers = entriesByCountry[entries]['q5_6'].astype('int64').mean() * 100;\n",
    "    arr.append([entries, len(entriesByCountry[entries]), round(percentOfFemales,1), round(averageAge,1), round(averagePhoneOwnership,1), round(percentInternetUsers,1), round(percentageOfOnlineCustomers,1)]);\n",
    "    \n",
    "\n",
    "df = pd.DataFrame(arr, columns=['Country', 'Nb of Respondents','% of Females Asked', 'Average Age', '% Who own a phone', '% of People who use the Internet','% of People who buy Online']);\n",
    "\n",
    "# Add mean\n",
    "mean = ['AVG value', round(df['Nb of Respondents'].mean(),1), round(df['% of Females Asked'].mean(),1), round(df['Average Age'].mean(),1), round(df['% Who own a phone'].mean(),1), round(df['% of People who use the Internet'].mean(),1), round(df['% of People who buy Online'].mean(),1)];\n",
    "df.loc[len(df)] = mean;\n",
    "\n",
    "std = ['STD of values', round(df['Nb of Respondents'].std(),1), round(df['% of Females Asked'].std(),1), round(df['Average Age'].std(),1), round(df['% Who own a phone'].std(),1), round(df['% of People who use the Internet'].std(),1), round(df['% of People who buy Online'].std(),1)];\n",
    "df.loc[len(df)] = std;"
   ]
  },
  {
   "cell_type": "code",
   "execution_count": 19,
   "metadata": {},
   "outputs": [
    {
     "name": "stdout",
     "output_type": "stream",
     "text": [
      "            Country  Nb of Respondents  % of Females Asked  Average Age  % Who own a phone  % of People who use the Internet  % of People who buy Online\n",
      "           BELGIQUE             1010.0                54.6         57.7               98.3                              81.6                        22.3\n",
      "            DANMARK             1002.0                51.7         57.2               99.6                              91.2                        46.3\n",
      "             ELLADA             1004.0                51.9         50.5               99.7                              84.0                        13.1\n",
      "             ESPANA             1000.0                51.8         50.2               99.7                              87.2                        26.1\n",
      "              SUOMI             1002.0                42.7         58.5               99.2                              85.1                        30.4\n",
      "             FRANCE             1006.0                54.6         58.8               98.8                              82.7                        19.1\n",
      "            IRELAND             1002.0                48.8         56.3               98.9                              85.7                        41.8\n",
      "             ITALIA             1000.0                53.8         55.7               99.8                              78.7                        19.1\n",
      "         LUXEMBOURG              504.0                57.7         48.4               99.4                              97.0                        52.2\n",
      "          NEDERLAND             1008.0                50.8         59.3               99.6                              90.1                        34.0\n",
      "         ÖSTERREICH             1000.0                50.6         56.7               99.5                              85.5                        27.4\n",
      "           PORTUGAL             1000.0                57.1         51.2               99.8                              79.6                        13.2\n",
      "            SVERIGE             1000.0                47.5         62.1               98.9                              88.7                        39.6\n",
      "        DEUTSCHLAND             1000.0                49.8         58.3               99.4                              87.9                        28.5\n",
      "                 UK             1001.0                49.7         57.0               99.2                              84.2                        42.1\n",
      "          BALGARIJA             1005.0                63.2         55.4               99.5                              76.6                         8.1\n",
      "             KYPROS              506.0                54.5         51.1              100.0                              72.9                        11.3\n",
      "    CESKA REPUBLIKA             1001.0                48.4         52.9               98.8                              85.3                        21.2\n",
      "              EESTI             1000.0                60.5         56.9               99.7                              77.0                        11.1\n",
      "       MAGYARORSZAG             1006.0                59.1         54.8               99.8                              82.4                         8.1\n",
      "             LATVIA             1000.0                59.5         51.5               99.5                              82.8                        14.6\n",
      "            LIETUVA             1000.0                57.0         50.9               99.3                              81.9                        13.9\n",
      "              MALTA              506.0                59.9         51.5              100.0                              80.8                        20.9\n",
      "             POLSKA             1000.0                49.3         55.2               98.4                              79.7                        19.7\n",
      "            ROMANIA             1004.0                52.2         49.5               99.9                              75.6                         8.0\n",
      " SLOVENSKA REPUBLIC             1005.0                53.3         50.5               99.8                              84.3                        14.7\n",
      "          SLOVENIJA             1003.0                60.0         59.0               99.7                              72.5                         9.9\n",
      "           HRVATSKA             1008.0                63.3         55.4               99.6                              76.9                        10.0\n",
      "          AVG value              949.4                54.0         54.7               99.4                              82.8                        22.4\n",
      "      STD of values              153.9                 5.0          3.6                0.4                               5.5                        12.5\n"
     ]
    }
   ],
   "source": [
    "#temporaly set expand_frame_repr\n",
    "with pd.option_context('expand_frame_repr', False):\n",
    "    print(df.to_string(index=False))"
   ]
  },
  {
   "cell_type": "code",
   "execution_count": 20,
   "metadata": {},
   "outputs": [
    {
     "name": "stdout",
     "output_type": "stream",
     "text": [
      "Country with highest average age\n",
      "SVERIGE 62.1\n",
      "\n",
      "Country with highest % of Phone Owners\n",
      "KYPROS 100.0\n",
      "\n",
      "Country with highest % of internet Users\n",
      "LUXEMBOURG 97.0\n",
      "\n",
      "Country with highest % of Online customers\n",
      "LUXEMBOURG 52.2\n",
      "\n"
     ]
    }
   ],
   "source": [
    "print('Country with highest average age');\n",
    "d1 = df.iloc[df['Average Age'].idxmax()];\n",
    "print(d1['Country'], d1['Average Age']);\n",
    "print();\n",
    "\n",
    "print('Country with highest % of Phone Owners');\n",
    "d2 = df.iloc[df['% Who own a phone'].idxmax()];\n",
    "print(d2['Country'], d2['% Who own a phone']);\n",
    "print();\n",
    "\n",
    "print('Country with highest % of internet Users');\n",
    "d3 = df.iloc[df['% of People who use the Internet'].idxmax()]\n",
    "print(d3['Country'], d3['% of People who use the Internet']);\n",
    "print();\n",
    "\n",
    "print('Country with highest % of Online customers');\n",
    "d4 = df.iloc[df['% of People who buy Online'].idxmax()]\n",
    "print(d4['Country'], d4['% of People who buy Online']);\n",
    "print();"
   ]
  },
  {
   "cell_type": "markdown",
   "metadata": {},
   "source": [
    "### Bar chart showing internet usage per country"
   ]
  },
  {
   "cell_type": "code",
   "execution_count": 21,
   "metadata": {},
   "outputs": [
    {
     "data": {
      "image/png": "[encoded data removed]",
      "text/plain": [
       "<Figure size 1440x576 with 28 Axes>"
      ]
     },
     "metadata": {
      "needs_background": "light"
     },
     "output_type": "display_data"
    }
   ],
   "source": [
    "fig = plt.figure()\n",
    "fig.suptitle('How often do you use the interet', fontsize=16)\n",
    "subplots = {}\n",
    "for index, country in enumerate(entriesByCountry):\n",
    "    entries = entriesByCountry[country]\n",
    "    numberOfEntries = entries['d8a'].count()\n",
    "    barfreq = entries['d8a'].value_counts() / numberOfEntries * 100;\n",
    "    subplots[country] = plt.subplot(1, 28, index+1);\n",
    "    subplots[country].set_title(country, size=7)\n",
    "    barfreq.plot.bar(fontsize=8, ax=subplots[country], figsize=(20,8), color=['green', 'red']);\n",
    "    \n",
    "#put in percentage#############"
   ]
  },
  {
   "cell_type": "markdown",
   "metadata": {},
   "source": [
    "### Filter By Age Bracket"
   ]
  },
  {
   "cell_type": "code",
   "execution_count": 22,
   "metadata": {},
   "outputs": [],
   "source": [
    "entriesByAgeBracket = {};\n",
    "\n",
    "under20arr = []\n",
    "over20under40arr = []\n",
    "over40under65arr = []\n",
    "over65arr = [];\n",
    "\n",
    "for i, entry in enumerate(newDatabase['d1']):\n",
    "    floatv = float(entry)\n",
    "    if (floatv < 20):\n",
    "        under20arr.append(newDatabase.iloc[i]);\n",
    "    elif (floatv < 40):\n",
    "        over20under40arr.append(newDatabase.iloc[i]);\n",
    "    elif (floatv < 65):\n",
    "        over40under65arr.append(newDatabase.iloc[i]);\n",
    "    else:\n",
    "        over65arr.append(newDatabase.iloc[i]);\n",
    "        \n",
    "entriesByAgeBracket['under20'] = pd.DataFrame(under20arr)\n",
    "entriesByAgeBracket['over20under40'] = pd.DataFrame(over20under40arr)\n",
    "entriesByAgeBracket['over40under65'] = pd.DataFrame(over40under65arr)\n",
    "entriesByAgeBracket['over65'] = pd.DataFrame(over65arr)"
   ]
  },
  {
   "cell_type": "markdown",
   "metadata": {},
   "source": [
    "### Descriptive statistics by age bracket"
   ]
  },
  {
   "cell_type": "code",
   "execution_count": 23,
   "metadata": {},
   "outputs": [],
   "source": [
    "arr = []\n",
    "for entries in entriesByAgeBracket:\n",
    "    percentInternetUsers = entriesByAgeBracket[entries]['d8a'].astype(\"int64\").mean() * 100;\n",
    "    percentOfFemales = entriesByAgeBracket[entries]['d2'].astype(\"int64\").mean() * 100;\n",
    "    averageAge = entriesByAgeBracket[entries]['d1'].astype('int64').mean();\n",
    "    averagePhoneOwnership = entriesByAgeBracket[entries]['d19'].astype('float64').mean() * 100;\n",
    "    percentageOfOnlineCustomers = entriesByAgeBracket[entries]['q5_6'].astype('int64').mean() * 100;\n",
    "    arr.append([entries, len(entriesByAgeBracket[entries]), round(percentOfFemales,1), round(averageAge,1), round(averagePhoneOwnership,1), round(percentInternetUsers,1), round(percentageOfOnlineCustomers,1)]);\n",
    "    \n",
    "\n",
    "df = pd.DataFrame(arr, columns=['AgeBracket', 'Nb of Respondents','% of Females Asked', 'Average Age', '% Who own a phone', '% of People who use the Internet','% of People who buy Online']);\n",
    "\n",
    "# Add mean\n",
    "mean = ['AVG value', round(df['Nb of Respondents'].mean(),1), round(df['% of Females Asked'].mean(),1), round(df['Average Age'].mean(),1), round(df['% Who own a phone'].mean(),1), round(df['% of People who use the Internet'].mean(),1), round(df['% of People who buy Online'].mean(),1)];\n",
    "df.loc[len(df)] = mean;\n",
    "\n",
    "std = ['STD of values', round(df['Nb of Respondents'].std(),1), round(df['% of Females Asked'].std(),1), round(df['Average Age'].std(),1), round(df['% Who own a phone'].std(),1), round(df['% of People who use the Internet'].std(),1), round(df['% of People who buy Online'].std(),1)];\n",
    "df.loc[len(df)] = std;"
   ]
  },
  {
   "cell_type": "code",
   "execution_count": 24,
   "metadata": {},
   "outputs": [
    {
     "name": "stdout",
     "output_type": "stream",
     "text": [
      "    AgeBracket  Nb of Respondents  % of Females Asked  Average Age  % Who own a phone  % of People who use the Internet  % of People who buy Online\n",
      "       under20              606.0                44.2         17.5               99.5                              99.7                        54.8\n",
      " over20under40             4909.0                48.3         31.1               99.7                              99.1                        39.9\n",
      " over40under65            12077.0                53.7         52.7               99.5                              91.4                        23.7\n",
      "        over65             8991.0                57.8         73.6               99.1                              61.0                         7.8\n",
      "     AVG value             6645.8                51.0         43.7               99.4                              87.8                        31.5\n",
      " STD of values             4315.5                 5.2         21.3                0.2                              15.8                        17.6\n"
     ]
    }
   ],
   "source": [
    "#temporaly set expand_frame_repr\n",
    "with pd.option_context('expand_frame_repr', False):\n",
    "    print(df.to_string(index=False))\n",
    "#Average age, gender (more female over 65 but not so informative) asked not so important \n",
    "#percentage of respondents instead of nb of respondents. "
   ]
  },
  {
   "cell_type": "code",
   "execution_count": 25,
   "metadata": {},
   "outputs": [],
   "source": [
    "# pair plot\n",
    "newDatabase['useinternet'] = newDatabase['d8a'].astype('int32');\n",
    "newDatabase['female'] = newDatabase['d2'].astype('int32');\n",
    "newDatabase['age'] = newDatabase['d1'].astype('int32');\n",
    "newDatabase['mobilephone'] = newDatabase['d19'].astype('int32');\n",
    "newDatabase['onlinecustomer'] = newDatabase['q5_6'].astype('int32');\n",
    "correlation_data = newDatabase[[\"onlinecustomer\", \"age\", \"female\", \"mobilephone\", \"useinternet\"]] "
   ]
  },
  {
   "cell_type": "code",
   "execution_count": 26,
   "metadata": {},
   "outputs": [
    {
     "data": {
      "image/png": "[encoded data removed]",
      "text/plain": [
       "<Figure size 864x720 with 2 Axes>"
      ]
     },
     "metadata": {
      "needs_background": "light"
     },
     "output_type": "display_data"
    }
   ],
   "source": [
    "# Correlation matrix \n",
    "corr = correlation_data.corr() \n",
    "mask = np.triu(np.ones_like(corr, dtype=np.bool))\n",
    "plt.figure(figsize=(12,10)) \n",
    "sns.heatmap(corr, annot=True, cmap=\"Blues\") \n",
    "plt.show()"
   ]
  },
  {
   "cell_type": "markdown",
   "metadata": {},
   "source": [
    "## Regressions for the use of internet\n",
    "### Regression by group of countries\n",
    "\n",
    "Access to internet with respect to the country. \n",
    "<br> **We can see that the internet access linearly depends on the group of country:**\n",
    "The coefficients for the OLS are close to 1, which indicates that the OLS model properly fits the distribution. Fruthermore, when looking at the test of Durbin Watson, the value is inferior to 2, showing that the autocorrelation is not strong, which means that there isn't a high seasonality. The is logic.\n",
    "The Jarque Bera test enables us to check that the conditions are met to do an OLS regression: the skew is close to 0 and the kurtosis is close to 3, which means that the distribution of the errors follows a normal law. This is the case for d8a. "
   ]
  },
  {
   "cell_type": "code",
   "execution_count": 27,
   "metadata": {},
   "outputs": [],
   "source": [
    "#%pip install linearmodels\n",
    "import statsmodels.api as sm\n",
    "from linearmodels import PanelOLS\n",
    "import seaborn as sns\n",
    "from sklearn.linear_model import LogisticRegression"
   ]
  },
  {
   "cell_type": "code",
   "execution_count": 112,
   "metadata": {},
   "outputs": [
    {
     "name": "stdout",
     "output_type": "stream",
     "text": [
      "tnscntry  BALGARIJA  BELGIQUE  CESKA REPUBLIKA  DANMARK  DEUTSCHLAND  EESTI  \\\n",
      "0                 0         1                0        0            0      0   \n",
      "1                 0         1                0        0            0      0   \n",
      "2                 0         1                0        0            0      0   \n",
      "3                 0         1                0        0            0      0   \n",
      "4                 0         1                0        0            0      0   \n",
      "...             ...       ...              ...      ...          ...    ...   \n",
      "26578             0         0                0        0            0      0   \n",
      "26579             0         0                0        0            0      0   \n",
      "26580             0         0                0        0            0      0   \n",
      "26581             0         0                0        0            0      0   \n",
      "26582             0         0                0        0            0      0   \n",
      "\n",
      "tnscntry  ELLADA  ESPANA  FRANCE  HRVATSKA  ...  NEDERLAND  POLSKA  PORTUGAL  \\\n",
      "0              0       0       0         0  ...          0       0         0   \n",
      "1              0       0       0         0  ...          0       0         0   \n",
      "2              0       0       0         0  ...          0       0         0   \n",
      "3              0       0       0         0  ...          0       0         0   \n",
      "4              0       0       0         0  ...          0       0         0   \n",
      "...          ...     ...     ...       ...  ...        ...     ...       ...   \n",
      "26578          0       0       0         1  ...          0       0         0   \n",
      "26579          0       0       0         1  ...          0       0         0   \n",
      "26580          0       0       0         1  ...          0       0         0   \n",
      "26581          0       0       0         1  ...          0       0         0   \n",
      "26582          0       0       0         1  ...          0       0         0   \n",
      "\n",
      "tnscntry  ROMANIA  SLOVENIJA  SLOVENSKA REPUBLIC  SUOMI  SVERIGE  UK  \\\n",
      "0               0          0                   0      0        0   0   \n",
      "1               0          0                   0      0        0   0   \n",
      "2               0          0                   0      0        0   0   \n",
      "3               0          0                   0      0        0   0   \n",
      "4               0          0                   0      0        0   0   \n",
      "...           ...        ...                 ...    ...      ...  ..   \n",
      "26578           0          0                   0      0        0   0   \n",
      "26579           0          0                   0      0        0   0   \n",
      "26580           0          0                   0      0        0   0   \n",
      "26581           0          0                   0      0        0   0   \n",
      "26582           0          0                   0      0        0   0   \n",
      "\n",
      "tnscntry  ÖSTERREICH  \n",
      "0                  0  \n",
      "1                  0  \n",
      "2                  0  \n",
      "3                  0  \n",
      "4                  0  \n",
      "...              ...  \n",
      "26578              0  \n",
      "26579              0  \n",
      "26580              0  \n",
      "26581              0  \n",
      "26582              0  \n",
      "\n",
      "[26583 rows x 28 columns]\n"
     ]
    }
   ],
   "source": [
    "#by grouping countries we reduce the number of information --> use full set of dummy variables. \n",
    "Xcountry = pd.get_dummies(newDatabase['tnscntry'])\n",
    "Xcountry2 = Xcountry\n",
    "Xcountry2['MALTA'] = (Xcountry['IRELAND'] + Xcountry['MALTA']).astype(float)\n",
    "#df[\"age\"] = (df[\"age1\"] + df[\"revised_age\"]).astype(\"int\")\n",
    "print(Xcountry2)"
   ]
  },
  {
   "cell_type": "code",
   "execution_count": 107,
   "metadata": {},
   "outputs": [
    {
     "name": "stdout",
     "output_type": "stream",
     "text": [
      "Optimization terminated successfully.\n",
      "         Current function value: 0.493885\n",
      "         Iterations 6\n"
     ]
    },
    {
     "data": {
      "text/html": [
       "<table class=\"simpletable\">\n",
       "<caption>Logit Regression Results</caption>\n",
       "<tr>\n",
       "  <th>Dep. Variable:</th>         <td>q5_6</td>       <th>  No. Observations:  </th>  <td> 26583</td> \n",
       "</tr>\n",
       "<tr>\n",
       "  <th>Model:</th>                 <td>Logit</td>      <th>  Df Residuals:      </th>  <td> 26556</td> \n",
       "</tr>\n",
       "<tr>\n",
       "  <th>Method:</th>                 <td>MLE</td>       <th>  Df Model:          </th>  <td>    26</td> \n",
       "</tr>\n",
       "<tr>\n",
       "  <th>Date:</th>            <td>Fri, 03 Jul 2020</td> <th>  Pseudo R-squ.:     </th>  <td>0.06375</td>\n",
       "</tr>\n",
       "<tr>\n",
       "  <th>Time:</th>                <td>12:50:30</td>     <th>  Log-Likelihood:    </th> <td> -13129.</td>\n",
       "</tr>\n",
       "<tr>\n",
       "  <th>converged:</th>             <td>True</td>       <th>  LL-Null:           </th> <td> -14023.</td>\n",
       "</tr>\n",
       "<tr>\n",
       "  <th>Covariance Type:</th>     <td>nonrobust</td>    <th>  LLR p-value:       </th>  <td> 0.000</td> \n",
       "</tr>\n",
       "</table>\n",
       "<table class=\"simpletable\">\n",
       "<tr>\n",
       "           <td></td>             <th>coef</th>     <th>std err</th>      <th>z</th>      <th>P>|z|</th>  <th>[0.025</th>    <th>0.975]</th>  \n",
       "</tr>\n",
       "<tr>\n",
       "  <th>BALGARIJA</th>          <td>   -2.4343</td> <td>    0.116</td> <td>  -21.007</td> <td> 0.000</td> <td>   -2.661</td> <td>   -2.207</td>\n",
       "</tr>\n",
       "<tr>\n",
       "  <th>BELGIQUE</th>           <td>   -1.2496</td> <td>    0.076</td> <td>  -16.525</td> <td> 0.000</td> <td>   -1.398</td> <td>   -1.101</td>\n",
       "</tr>\n",
       "<tr>\n",
       "  <th>CESKA REPUBLIKA</th>    <td>   -1.3142</td> <td>    0.077</td> <td>  -16.988</td> <td> 0.000</td> <td>   -1.466</td> <td>   -1.163</td>\n",
       "</tr>\n",
       "<tr>\n",
       "  <th>DANMARK</th>            <td>   -0.1480</td> <td>    0.063</td> <td>   -2.336</td> <td> 0.020</td> <td>   -0.272</td> <td>   -0.024</td>\n",
       "</tr>\n",
       "<tr>\n",
       "  <th>DEUTSCHLAND</th>        <td>   -0.9198</td> <td>    0.070</td> <td>  -13.130</td> <td> 0.000</td> <td>   -1.057</td> <td>   -0.782</td>\n",
       "</tr>\n",
       "<tr>\n",
       "  <th>EESTI</th>              <td>   -2.0806</td> <td>    0.101</td> <td>  -20.668</td> <td> 0.000</td> <td>   -2.278</td> <td>   -1.883</td>\n",
       "</tr>\n",
       "<tr>\n",
       "  <th>ELLADA</th>             <td>   -1.8880</td> <td>    0.093</td> <td>  -20.215</td> <td> 0.000</td> <td>   -2.071</td> <td>   -1.705</td>\n",
       "</tr>\n",
       "<tr>\n",
       "  <th>ESPANA</th>             <td>   -1.0408</td> <td>    0.072</td> <td>  -14.454</td> <td> 0.000</td> <td>   -1.182</td> <td>   -0.900</td>\n",
       "</tr>\n",
       "<tr>\n",
       "  <th>HRVATSKA</th>           <td>   -2.1950</td> <td>    0.105</td> <td>  -20.925</td> <td> 0.000</td> <td>   -2.401</td> <td>   -1.989</td>\n",
       "</tr>\n",
       "<tr>\n",
       "  <th>IRELAND</th>            <td>   -0.3303</td> <td>    0.064</td> <td>   -5.157</td> <td> 0.000</td> <td>   -0.456</td> <td>   -0.205</td>\n",
       "</tr>\n",
       "<tr>\n",
       "  <th>ITALIA</th>             <td>   -1.4435</td> <td>    0.080</td> <td>  -17.944</td> <td> 0.000</td> <td>   -1.601</td> <td>   -1.286</td>\n",
       "</tr>\n",
       "<tr>\n",
       "  <th>KYPROS</th>             <td>   -2.0640</td> <td>    0.141</td> <td>  -14.679</td> <td> 0.000</td> <td>   -2.340</td> <td>   -1.788</td>\n",
       "</tr>\n",
       "<tr>\n",
       "  <th>LATVIA</th>             <td>   -1.7663</td> <td>    0.090</td> <td>  -19.723</td> <td> 0.000</td> <td>   -1.942</td> <td>   -1.591</td>\n",
       "</tr>\n",
       "<tr>\n",
       "  <th>LIETUVA</th>            <td>   -1.8236</td> <td>    0.091</td> <td>  -19.950</td> <td> 0.000</td> <td>   -2.003</td> <td>   -1.644</td>\n",
       "</tr>\n",
       "<tr>\n",
       "  <th>LUXEMBOURG</th>         <td>    0.0874</td> <td>    0.089</td> <td>    0.980</td> <td> 0.327</td> <td>   -0.087</td> <td>    0.262</td>\n",
       "</tr>\n",
       "<tr>\n",
       "  <th>MAGYARORSZAG</th>       <td>   -2.4353</td> <td>    0.116</td> <td>  -21.017</td> <td> 0.000</td> <td>   -2.662</td> <td>   -2.208</td>\n",
       "</tr>\n",
       "<tr>\n",
       "  <th>MALTA</th>              <td>   -1.3280</td> <td>    0.109</td> <td>  -12.157</td> <td> 0.000</td> <td>   -1.542</td> <td>   -1.114</td>\n",
       "</tr>\n",
       "<tr>\n",
       "  <th>NEDERLAND</th>          <td>   -0.6621</td> <td>    0.066</td> <td>   -9.959</td> <td> 0.000</td> <td>   -0.792</td> <td>   -0.532</td>\n",
       "</tr>\n",
       "<tr>\n",
       "  <th>POLSKA</th>             <td>   -1.4052</td> <td>    0.080</td> <td>  -17.673</td> <td> 0.000</td> <td>   -1.561</td> <td>   -1.249</td>\n",
       "</tr>\n",
       "<tr>\n",
       "  <th>PORTUGAL</th>           <td>   -1.8834</td> <td>    0.093</td> <td>  -20.160</td> <td> 0.000</td> <td>   -2.066</td> <td>   -1.700</td>\n",
       "</tr>\n",
       "<tr>\n",
       "  <th>ROMANIA</th>            <td>   -2.4467</td> <td>    0.117</td> <td>  -20.994</td> <td> 0.000</td> <td>   -2.675</td> <td>   -2.218</td>\n",
       "</tr>\n",
       "<tr>\n",
       "  <th>SLOVENIJA</th>          <td>   -2.2117</td> <td>    0.106</td> <td>  -20.892</td> <td> 0.000</td> <td>   -2.419</td> <td>   -2.004</td>\n",
       "</tr>\n",
       "<tr>\n",
       "  <th>SLOVENSKA REPUBLIC</th> <td>   -1.7562</td> <td>    0.089</td> <td>  -19.730</td> <td> 0.000</td> <td>   -1.931</td> <td>   -1.582</td>\n",
       "</tr>\n",
       "<tr>\n",
       "  <th>SUOMI</th>              <td>   -0.8265</td> <td>    0.069</td> <td>  -12.038</td> <td> 0.000</td> <td>   -0.961</td> <td>   -0.692</td>\n",
       "</tr>\n",
       "<tr>\n",
       "  <th>SVERIGE</th>            <td>   -0.4222</td> <td>    0.065</td> <td>   -6.529</td> <td> 0.000</td> <td>   -0.549</td> <td>   -0.295</td>\n",
       "</tr>\n",
       "<tr>\n",
       "  <th>UK</th>                 <td>   -0.3204</td> <td>    0.064</td> <td>   -5.004</td> <td> 0.000</td> <td>   -0.446</td> <td>   -0.195</td>\n",
       "</tr>\n",
       "<tr>\n",
       "  <th>ÖSTERREICH</th>         <td>   -0.0546</td> <td>    0.100</td> <td>   -0.548</td> <td> 0.584</td> <td>   -0.250</td> <td>    0.141</td>\n",
       "</tr>\n",
       "</table>"
      ],
      "text/plain": [
       "<class 'statsmodels.iolib.summary.Summary'>\n",
       "\"\"\"\n",
       "                           Logit Regression Results                           \n",
       "==============================================================================\n",
       "Dep. Variable:                   q5_6   No. Observations:                26583\n",
       "Model:                          Logit   Df Residuals:                    26556\n",
       "Method:                           MLE   Df Model:                           26\n",
       "Date:                Fri, 03 Jul 2020   Pseudo R-squ.:                 0.06375\n",
       "Time:                        12:50:30   Log-Likelihood:                -13129.\n",
       "converged:                       True   LL-Null:                       -14023.\n",
       "Covariance Type:            nonrobust   LLR p-value:                     0.000\n",
       "======================================================================================\n",
       "                         coef    std err          z      P>|z|      [0.025      0.975]\n",
       "--------------------------------------------------------------------------------------\n",
       "BALGARIJA             -2.4343      0.116    -21.007      0.000      -2.661      -2.207\n",
       "BELGIQUE              -1.2496      0.076    -16.525      0.000      -1.398      -1.101\n",
       "CESKA REPUBLIKA       -1.3142      0.077    -16.988      0.000      -1.466      -1.163\n",
       "DANMARK               -0.1480      0.063     -2.336      0.020      -0.272      -0.024\n",
       "DEUTSCHLAND           -0.9198      0.070    -13.130      0.000      -1.057      -0.782\n",
       "EESTI                 -2.0806      0.101    -20.668      0.000      -2.278      -1.883\n",
       "ELLADA                -1.8880      0.093    -20.215      0.000      -2.071      -1.705\n",
       "ESPANA                -1.0408      0.072    -14.454      0.000      -1.182      -0.900\n",
       "HRVATSKA              -2.1950      0.105    -20.925      0.000      -2.401      -1.989\n",
       "IRELAND               -0.3303      0.064     -5.157      0.000      -0.456      -0.205\n",
       "ITALIA                -1.4435      0.080    -17.944      0.000      -1.601      -1.286\n",
       "KYPROS                -2.0640      0.141    -14.679      0.000      -2.340      -1.788\n",
       "LATVIA                -1.7663      0.090    -19.723      0.000      -1.942      -1.591\n",
       "LIETUVA               -1.8236      0.091    -19.950      0.000      -2.003      -1.644\n",
       "LUXEMBOURG             0.0874      0.089      0.980      0.327      -0.087       0.262\n",
       "MAGYARORSZAG          -2.4353      0.116    -21.017      0.000      -2.662      -2.208\n",
       "MALTA                 -1.3280      0.109    -12.157      0.000      -1.542      -1.114\n",
       "NEDERLAND             -0.6621      0.066     -9.959      0.000      -0.792      -0.532\n",
       "POLSKA                -1.4052      0.080    -17.673      0.000      -1.561      -1.249\n",
       "PORTUGAL              -1.8834      0.093    -20.160      0.000      -2.066      -1.700\n",
       "ROMANIA               -2.4467      0.117    -20.994      0.000      -2.675      -2.218\n",
       "SLOVENIJA             -2.2117      0.106    -20.892      0.000      -2.419      -2.004\n",
       "SLOVENSKA REPUBLIC    -1.7562      0.089    -19.730      0.000      -1.931      -1.582\n",
       "SUOMI                 -0.8265      0.069    -12.038      0.000      -0.961      -0.692\n",
       "SVERIGE               -0.4222      0.065     -6.529      0.000      -0.549      -0.295\n",
       "UK                    -0.3204      0.064     -5.004      0.000      -0.446      -0.195\n",
       "ÖSTERREICH            -0.0546      0.100     -0.548      0.584      -0.250       0.141\n",
       "======================================================================================\n",
       "\"\"\""
      ]
     },
     "execution_count": 107,
     "metadata": {},
     "output_type": "execute_result"
    }
   ],
   "source": [
    "# pair plot\n",
    "y = newDatabase['q5_6'].dropna()\n",
    "logit = sm.Logit(y, Xcountry.drop(['FRANCE'], axis=1))\n",
    "logit.fit().summary()"
   ]
  },
  {
   "cell_type": "markdown",
   "metadata": {},
   "source": [
    "### Regression by sex"
   ]
  },
  {
   "cell_type": "code",
   "execution_count": 30,
   "metadata": {},
   "outputs": [],
   "source": [
    "Xsexe = newDatabase['d2']"
   ]
  },
  {
   "cell_type": "code",
   "execution_count": 31,
   "metadata": {},
   "outputs": [
    {
     "name": "stdout",
     "output_type": "stream",
     "text": [
      "Optimization terminated successfully.\n",
      "         Current function value: 0.569014\n",
      "         Iterations 5\n"
     ]
    },
    {
     "data": {
      "text/html": [
       "<table class=\"simpletable\">\n",
       "<caption>Logit Regression Results</caption>\n",
       "<tr>\n",
       "  <th>Dep. Variable:</th>         <td>q5_6</td>       <th>  No. Observations:  </th>  <td> 26583</td> \n",
       "</tr>\n",
       "<tr>\n",
       "  <th>Model:</th>                 <td>Logit</td>      <th>  Df Residuals:      </th>  <td> 26582</td> \n",
       "</tr>\n",
       "<tr>\n",
       "  <th>Method:</th>                 <td>MLE</td>       <th>  Df Model:          </th>  <td>     0</td> \n",
       "</tr>\n",
       "<tr>\n",
       "  <th>Date:</th>            <td>Thu, 02 Jul 2020</td> <th>  Pseudo R-squ.:     </th> <td>-0.07867</td>\n",
       "</tr>\n",
       "<tr>\n",
       "  <th>Time:</th>                <td>14:39:20</td>     <th>  Log-Likelihood:    </th> <td> -15126.</td>\n",
       "</tr>\n",
       "<tr>\n",
       "  <th>converged:</th>             <td>True</td>       <th>  LL-Null:           </th> <td> -14023.</td>\n",
       "</tr>\n",
       "<tr>\n",
       "  <th>Covariance Type:</th>     <td>nonrobust</td>    <th>  LLR p-value:       </th>  <td>   nan</td> \n",
       "</tr>\n",
       "</table>\n",
       "<table class=\"simpletable\">\n",
       "<tr>\n",
       "   <td></td>     <th>coef</th>     <th>std err</th>      <th>z</th>      <th>P>|z|</th>  <th>[0.025</th>    <th>0.975]</th>  \n",
       "</tr>\n",
       "<tr>\n",
       "  <th>d2</th> <td>   -1.5553</td> <td>    0.022</td> <td>  -70.605</td> <td> 0.000</td> <td>   -1.598</td> <td>   -1.512</td>\n",
       "</tr>\n",
       "</table>"
      ],
      "text/plain": [
       "<class 'statsmodels.iolib.summary.Summary'>\n",
       "\"\"\"\n",
       "                           Logit Regression Results                           \n",
       "==============================================================================\n",
       "Dep. Variable:                   q5_6   No. Observations:                26583\n",
       "Model:                          Logit   Df Residuals:                    26582\n",
       "Method:                           MLE   Df Model:                            0\n",
       "Date:                Thu, 02 Jul 2020   Pseudo R-squ.:                -0.07867\n",
       "Time:                        14:39:20   Log-Likelihood:                -15126.\n",
       "converged:                       True   LL-Null:                       -14023.\n",
       "Covariance Type:            nonrobust   LLR p-value:                       nan\n",
       "==============================================================================\n",
       "                 coef    std err          z      P>|z|      [0.025      0.975]\n",
       "------------------------------------------------------------------------------\n",
       "d2            -1.5553      0.022    -70.605      0.000      -1.598      -1.512\n",
       "==============================================================================\n",
       "\"\"\""
      ]
     },
     "execution_count": 31,
     "metadata": {},
     "output_type": "execute_result"
    }
   ],
   "source": [
    "sm.Logit(newDatabase['q5_6'].astype(float), Xsexe.astype(float)).fit().summary()"
   ]
  },
  {
   "cell_type": "markdown",
   "metadata": {},
   "source": [
    "### Regression by age"
   ]
  },
  {
   "cell_type": "code",
   "execution_count": 32,
   "metadata": {},
   "outputs": [
    {
     "name": "stdout",
     "output_type": "stream",
     "text": [
      "{'under20': [], 'over20under40': [], 'over40under65': [], 'over65': []}\n",
      "       under20  over20under40  over40under65  over65\n",
      "0            0              0              0       1\n",
      "1            0              0              0       1\n",
      "2            0              0              1       0\n",
      "3            0              0              1       0\n",
      "4            0              0              0       1\n",
      "...        ...            ...            ...     ...\n",
      "26578        0              0              0       1\n",
      "26579        0              0              0       1\n",
      "26580        0              0              0       1\n",
      "26581        0              1              0       0\n",
      "26582        0              0              1       0\n",
      "\n",
      "[26583 rows x 4 columns]\n"
     ]
    }
   ],
   "source": [
    "under20 = []\n",
    "over20under40 = []\n",
    "over40under65 = []\n",
    "over65 = [];\n",
    "\n",
    "ages = {\n",
    "    \"under20\": [],\n",
    "    \"over20under40\" : [],\n",
    "    \"over40under65\": [],\n",
    "    \"over65\": []\n",
    "}\n",
    "\n",
    "print(ages)\n",
    "\n",
    "\n",
    "nb_of_lines = 26583  \n",
    "for i in newDatabase['d1']:\n",
    "    taken = False\n",
    "    if float(i) < 20 : \n",
    "        ages[\"under20\"].append(1)\n",
    "    else :\n",
    "        ages[\"under20\"].append(0)\n",
    "    if float(i) >= 20 and float(i) <40 :\n",
    "        ages[\"over20under40\"].append(1)\n",
    "    else :\n",
    "        ages[\"over20under40\"].append(0)\n",
    "    if float(i) >= 40 and float(i) < 65 :\n",
    "        ages[\"over40under65\"].append(1)\n",
    "    else :\n",
    "        ages[\"over40under65\"].append(0)\n",
    "    if float(i) >= 65 :\n",
    "        ages[\"over65\"].append(1)\n",
    "    else :\n",
    "        ages[\"over65\"].append(0)\n",
    "\n",
    "        \n",
    "Xage = pd.DataFrame(ages);\n",
    "\n",
    "print(Xage)"
   ]
  },
  {
   "cell_type": "code",
   "execution_count": 33,
   "metadata": {},
   "outputs": [
    {
     "data": {
      "text/plain": [
       "0    14506\n",
       "1    12077\n",
       "Name: over40under65, dtype: int64"
      ]
     },
     "execution_count": 33,
     "metadata": {},
     "output_type": "execute_result"
    }
   ],
   "source": [
    "#Xage['over65'].value_counts()\n",
    "Xage['over40under65'].value_counts()"
   ]
  },
  {
   "cell_type": "code",
   "execution_count": 34,
   "metadata": {},
   "outputs": [
    {
     "name": "stdout",
     "output_type": "stream",
     "text": [
      "Optimization terminated successfully.\n",
      "         Current function value: 0.623221\n",
      "         Iterations 5\n"
     ]
    },
    {
     "data": {
      "text/html": [
       "<table class=\"simpletable\">\n",
       "<caption>Logit Regression Results</caption>\n",
       "<tr>\n",
       "  <th>Dep. Variable:</th>         <td>q5_6</td>       <th>  No. Observations:  </th>  <td> 26583</td> \n",
       "</tr>\n",
       "<tr>\n",
       "  <th>Model:</th>                 <td>Logit</td>      <th>  Df Residuals:      </th>  <td> 26580</td> \n",
       "</tr>\n",
       "<tr>\n",
       "  <th>Method:</th>                 <td>MLE</td>       <th>  Df Model:          </th>  <td>     2</td> \n",
       "</tr>\n",
       "<tr>\n",
       "  <th>Date:</th>            <td>Thu, 02 Jul 2020</td> <th>  Pseudo R-squ.:     </th>  <td>-0.1814</td>\n",
       "</tr>\n",
       "<tr>\n",
       "  <th>Time:</th>                <td>14:39:20</td>     <th>  Log-Likelihood:    </th> <td> -16567.</td>\n",
       "</tr>\n",
       "<tr>\n",
       "  <th>converged:</th>             <td>True</td>       <th>  LL-Null:           </th> <td> -14023.</td>\n",
       "</tr>\n",
       "<tr>\n",
       "  <th>Covariance Type:</th>     <td>nonrobust</td>    <th>  LLR p-value:       </th>  <td> 1.000</td> \n",
       "</tr>\n",
       "</table>\n",
       "<table class=\"simpletable\">\n",
       "<tr>\n",
       "        <td></td>           <th>coef</th>     <th>std err</th>      <th>z</th>      <th>P>|z|</th>  <th>[0.025</th>    <th>0.975]</th>  \n",
       "</tr>\n",
       "<tr>\n",
       "  <th>under20</th>       <td>    0.1920</td> <td>    0.082</td> <td>    2.352</td> <td> 0.019</td> <td>    0.032</td> <td>    0.352</td>\n",
       "</tr>\n",
       "<tr>\n",
       "  <th>over20under40</th> <td>   -0.4085</td> <td>    0.029</td> <td>  -14.018</td> <td> 0.000</td> <td>   -0.466</td> <td>   -0.351</td>\n",
       "</tr>\n",
       "<tr>\n",
       "  <th>over40under65</th> <td>   -1.1684</td> <td>    0.021</td> <td>  -54.613</td> <td> 0.000</td> <td>   -1.210</td> <td>   -1.126</td>\n",
       "</tr>\n",
       "</table>"
      ],
      "text/plain": [
       "<class 'statsmodels.iolib.summary.Summary'>\n",
       "\"\"\"\n",
       "                           Logit Regression Results                           \n",
       "==============================================================================\n",
       "Dep. Variable:                   q5_6   No. Observations:                26583\n",
       "Model:                          Logit   Df Residuals:                    26580\n",
       "Method:                           MLE   Df Model:                            2\n",
       "Date:                Thu, 02 Jul 2020   Pseudo R-squ.:                 -0.1814\n",
       "Time:                        14:39:20   Log-Likelihood:                -16567.\n",
       "converged:                       True   LL-Null:                       -14023.\n",
       "Covariance Type:            nonrobust   LLR p-value:                     1.000\n",
       "=================================================================================\n",
       "                    coef    std err          z      P>|z|      [0.025      0.975]\n",
       "---------------------------------------------------------------------------------\n",
       "under20           0.1920      0.082      2.352      0.019       0.032       0.352\n",
       "over20under40    -0.4085      0.029    -14.018      0.000      -0.466      -0.351\n",
       "over40under65    -1.1684      0.021    -54.613      0.000      -1.210      -1.126\n",
       "=================================================================================\n",
       "\"\"\""
      ]
     },
     "execution_count": 34,
     "metadata": {},
     "output_type": "execute_result"
    }
   ],
   "source": [
    "sm.Logit(newDatabase['q5_6'].astype(float), Xage.drop(['over65'], axis=1).astype(float)).fit().summary()"
   ]
  },
  {
   "cell_type": "markdown",
   "metadata": {},
   "source": [
    "### Regression by use of mobile phone"
   ]
  },
  {
   "cell_type": "code",
   "execution_count": 35,
   "metadata": {},
   "outputs": [],
   "source": [
    "Xmobile = newDatabase['d19']"
   ]
  },
  {
   "cell_type": "code",
   "execution_count": 36,
   "metadata": {},
   "outputs": [
    {
     "name": "stdout",
     "output_type": "stream",
     "text": [
      "Optimization terminated successfully.\n",
      "         Current function value: 0.529029\n",
      "         Iterations 5\n"
     ]
    },
    {
     "data": {
      "text/html": [
       "<table class=\"simpletable\">\n",
       "<caption>Logit Regression Results</caption>\n",
       "<tr>\n",
       "  <th>Dep. Variable:</th>         <td>q5_6</td>       <th>  No. Observations:  </th>  <td> 26583</td>  \n",
       "</tr>\n",
       "<tr>\n",
       "  <th>Model:</th>                 <td>Logit</td>      <th>  Df Residuals:      </th>  <td> 26582</td>  \n",
       "</tr>\n",
       "<tr>\n",
       "  <th>Method:</th>                 <td>MLE</td>       <th>  Df Model:          </th>  <td>     0</td>  \n",
       "</tr>\n",
       "<tr>\n",
       "  <th>Date:</th>            <td>Thu, 02 Jul 2020</td> <th>  Pseudo R-squ.:     </th> <td>-0.002873</td>\n",
       "</tr>\n",
       "<tr>\n",
       "  <th>Time:</th>                <td>14:39:20</td>     <th>  Log-Likelihood:    </th> <td> -14063.</td> \n",
       "</tr>\n",
       "<tr>\n",
       "  <th>converged:</th>             <td>True</td>       <th>  LL-Null:           </th> <td> -14023.</td> \n",
       "</tr>\n",
       "<tr>\n",
       "  <th>Covariance Type:</th>     <td>nonrobust</td>    <th>  LLR p-value:       </th>  <td>   nan</td>  \n",
       "</tr>\n",
       "</table>\n",
       "<table class=\"simpletable\">\n",
       "<tr>\n",
       "   <td></td>      <th>coef</th>     <th>std err</th>      <th>z</th>      <th>P>|z|</th>  <th>[0.025</th>    <th>0.975]</th>  \n",
       "</tr>\n",
       "<tr>\n",
       "  <th>d19</th> <td>   -1.2604</td> <td>    0.015</td> <td>  -84.999</td> <td> 0.000</td> <td>   -1.290</td> <td>   -1.231</td>\n",
       "</tr>\n",
       "</table>"
      ],
      "text/plain": [
       "<class 'statsmodels.iolib.summary.Summary'>\n",
       "\"\"\"\n",
       "                           Logit Regression Results                           \n",
       "==============================================================================\n",
       "Dep. Variable:                   q5_6   No. Observations:                26583\n",
       "Model:                          Logit   Df Residuals:                    26582\n",
       "Method:                           MLE   Df Model:                            0\n",
       "Date:                Thu, 02 Jul 2020   Pseudo R-squ.:               -0.002873\n",
       "Time:                        14:39:20   Log-Likelihood:                -14063.\n",
       "converged:                       True   LL-Null:                       -14023.\n",
       "Covariance Type:            nonrobust   LLR p-value:                       nan\n",
       "==============================================================================\n",
       "                 coef    std err          z      P>|z|      [0.025      0.975]\n",
       "------------------------------------------------------------------------------\n",
       "d19           -1.2604      0.015    -84.999      0.000      -1.290      -1.231\n",
       "==============================================================================\n",
       "\"\"\""
      ]
     },
     "execution_count": 36,
     "metadata": {},
     "output_type": "execute_result"
    }
   ],
   "source": [
    "sm.Logit(newDatabase['q5_6'].astype(float), Xmobile.astype(float)).fit().summary()"
   ]
  },
  {
   "cell_type": "markdown",
   "metadata": {},
   "source": [
    "### Regression by use of internet"
   ]
  },
  {
   "cell_type": "code",
   "execution_count": 37,
   "metadata": {},
   "outputs": [],
   "source": [
    "Xinternet = newDatabase['d8a']"
   ]
  },
  {
   "cell_type": "code",
   "execution_count": 38,
   "metadata": {},
   "outputs": [
    {
     "name": "stdout",
     "output_type": "stream",
     "text": [
      "Optimization terminated successfully.\n",
      "         Current function value: 0.599307\n",
      "         Iterations 5\n"
     ]
    },
    {
     "data": {
      "text/html": [
       "<table class=\"simpletable\">\n",
       "<caption>Logit Regression Results</caption>\n",
       "<tr>\n",
       "  <th>Dep. Variable:</th>         <td>q5_6</td>       <th>  No. Observations:  </th>  <td> 26583</td> \n",
       "</tr>\n",
       "<tr>\n",
       "  <th>Model:</th>                 <td>Logit</td>      <th>  Df Residuals:      </th>  <td> 26582</td> \n",
       "</tr>\n",
       "<tr>\n",
       "  <th>Method:</th>                 <td>MLE</td>       <th>  Df Model:          </th>  <td>     0</td> \n",
       "</tr>\n",
       "<tr>\n",
       "  <th>Date:</th>            <td>Thu, 02 Jul 2020</td> <th>  Pseudo R-squ.:     </th>  <td>-0.1361</td>\n",
       "</tr>\n",
       "<tr>\n",
       "  <th>Time:</th>                <td>14:39:20</td>     <th>  Log-Likelihood:    </th> <td> -15931.</td>\n",
       "</tr>\n",
       "<tr>\n",
       "  <th>converged:</th>             <td>True</td>       <th>  LL-Null:           </th> <td> -14023.</td>\n",
       "</tr>\n",
       "<tr>\n",
       "  <th>Covariance Type:</th>     <td>nonrobust</td>    <th>  LLR p-value:       </th>  <td>   nan</td> \n",
       "</tr>\n",
       "</table>\n",
       "<table class=\"simpletable\">\n",
       "<tr>\n",
       "   <td></td>      <th>coef</th>     <th>std err</th>      <th>z</th>      <th>P>|z|</th>  <th>[0.025</th>    <th>0.975]</th>  \n",
       "</tr>\n",
       "<tr>\n",
       "  <th>d8a</th> <td>   -1.0125</td> <td>    0.015</td> <td>  -66.391</td> <td> 0.000</td> <td>   -1.042</td> <td>   -0.983</td>\n",
       "</tr>\n",
       "</table>"
      ],
      "text/plain": [
       "<class 'statsmodels.iolib.summary.Summary'>\n",
       "\"\"\"\n",
       "                           Logit Regression Results                           \n",
       "==============================================================================\n",
       "Dep. Variable:                   q5_6   No. Observations:                26583\n",
       "Model:                          Logit   Df Residuals:                    26582\n",
       "Method:                           MLE   Df Model:                            0\n",
       "Date:                Thu, 02 Jul 2020   Pseudo R-squ.:                 -0.1361\n",
       "Time:                        14:39:20   Log-Likelihood:                -15931.\n",
       "converged:                       True   LL-Null:                       -14023.\n",
       "Covariance Type:            nonrobust   LLR p-value:                       nan\n",
       "==============================================================================\n",
       "                 coef    std err          z      P>|z|      [0.025      0.975]\n",
       "------------------------------------------------------------------------------\n",
       "d8a           -1.0125      0.015    -66.391      0.000      -1.042      -0.983\n",
       "==============================================================================\n",
       "\"\"\""
      ]
     },
     "execution_count": 38,
     "metadata": {},
     "output_type": "execute_result"
    }
   ],
   "source": [
    "sm.Logit(newDatabase['q5_6'].astype(float), Xinternet.astype(float)).fit().summary()"
   ]
  },
  {
   "cell_type": "code",
   "execution_count": 115,
   "metadata": {},
   "outputs": [],
   "source": [
    "X0 = pd.concat([Xsexe, Xcountry.drop(['LATVIA'], axis=1)], axis=1)\n",
    "X01 =  pd.concat([X0, Xmobile], axis=1)\n",
    "X02 =  pd.concat([X01, Xage.drop(['over65'], axis=1)], axis=1)\n",
    "X1 = pd.concat([X02, Xinternet], axis=1)"
   ]
  },
  {
   "cell_type": "code",
   "execution_count": 116,
   "metadata": {},
   "outputs": [
    {
     "name": "stdout",
     "output_type": "stream",
     "text": [
      "Optimization terminated successfully.\n",
      "         Current function value: 0.416618\n",
      "         Iterations 8\n"
     ]
    },
    {
     "data": {
      "text/html": [
       "<table class=\"simpletable\">\n",
       "<caption>Logit Regression Results</caption>\n",
       "<tr>\n",
       "  <th>Dep. Variable:</th>         <td>q5_6</td>       <th>  No. Observations:  </th>  <td> 26583</td> \n",
       "</tr>\n",
       "<tr>\n",
       "  <th>Model:</th>                 <td>Logit</td>      <th>  Df Residuals:      </th>  <td> 26550</td> \n",
       "</tr>\n",
       "<tr>\n",
       "  <th>Method:</th>                 <td>MLE</td>       <th>  Df Model:          </th>  <td>    32</td> \n",
       "</tr>\n",
       "<tr>\n",
       "  <th>Date:</th>            <td>Fri, 03 Jul 2020</td> <th>  Pseudo R-squ.:     </th>  <td>0.2102</td> \n",
       "</tr>\n",
       "<tr>\n",
       "  <th>Time:</th>                <td>13:16:00</td>     <th>  Log-Likelihood:    </th> <td> -11075.</td>\n",
       "</tr>\n",
       "<tr>\n",
       "  <th>converged:</th>             <td>True</td>       <th>  LL-Null:           </th> <td> -14023.</td>\n",
       "</tr>\n",
       "<tr>\n",
       "  <th>Covariance Type:</th>     <td>nonrobust</td>    <th>  LLR p-value:       </th>  <td> 0.000</td> \n",
       "</tr>\n",
       "</table>\n",
       "<table class=\"simpletable\">\n",
       "<tr>\n",
       "           <td></td>             <th>coef</th>     <th>std err</th>      <th>z</th>      <th>P>|z|</th>  <th>[0.025</th>    <th>0.975]</th>  \n",
       "</tr>\n",
       "<tr>\n",
       "  <th>d2</th>                 <td>   -0.5223</td> <td>    0.034</td> <td>  -15.575</td> <td> 0.000</td> <td>   -0.588</td> <td>   -0.457</td>\n",
       "</tr>\n",
       "<tr>\n",
       "  <th>BALGARIJA</th>          <td>   -1.2125</td> <td>    0.143</td> <td>   -8.467</td> <td> 0.000</td> <td>   -1.493</td> <td>   -0.932</td>\n",
       "</tr>\n",
       "<tr>\n",
       "  <th>BELGIQUE</th>           <td>    0.0741</td> <td>    0.113</td> <td>    0.656</td> <td> 0.512</td> <td>   -0.147</td> <td>    0.296</td>\n",
       "</tr>\n",
       "<tr>\n",
       "  <th>CESKA REPUBLIKA</th>    <td>   -0.2395</td> <td>    0.113</td> <td>   -2.115</td> <td> 0.034</td> <td>   -0.461</td> <td>   -0.018</td>\n",
       "</tr>\n",
       "<tr>\n",
       "  <th>DANMARK</th>            <td>    1.3514</td> <td>    0.105</td> <td>   12.863</td> <td> 0.000</td> <td>    1.145</td> <td>    1.557</td>\n",
       "</tr>\n",
       "<tr>\n",
       "  <th>DEUTSCHLAND</th>        <td>    0.4594</td> <td>    0.108</td> <td>    4.249</td> <td> 0.000</td> <td>    0.247</td> <td>    0.671</td>\n",
       "</tr>\n",
       "<tr>\n",
       "  <th>EESTI</th>              <td>   -0.8039</td> <td>    0.131</td> <td>   -6.159</td> <td> 0.000</td> <td>   -1.060</td> <td>   -0.548</td>\n",
       "</tr>\n",
       "<tr>\n",
       "  <th>ELLADA</th>             <td>   -0.8496</td> <td>    0.124</td> <td>   -6.827</td> <td> 0.000</td> <td>   -1.094</td> <td>   -0.606</td>\n",
       "</tr>\n",
       "<tr>\n",
       "  <th>ESPANA</th>             <td>    0.0245</td> <td>    0.109</td> <td>    0.226</td> <td> 0.821</td> <td>   -0.188</td> <td>    0.237</td>\n",
       "</tr>\n",
       "<tr>\n",
       "  <th>FRANCE</th>             <td>   -0.0700</td> <td>    0.115</td> <td>   -0.609</td> <td> 0.543</td> <td>   -0.295</td> <td>    0.155</td>\n",
       "</tr>\n",
       "<tr>\n",
       "  <th>HRVATSKA</th>           <td>   -0.9389</td> <td>    0.134</td> <td>   -6.988</td> <td> 0.000</td> <td>   -1.202</td> <td>   -0.676</td>\n",
       "</tr>\n",
       "<tr>\n",
       "  <th>IRELAND</th>            <td>    1.3154</td> <td>    0.139</td> <td>    9.479</td> <td> 0.000</td> <td>    1.043</td> <td>    1.587</td>\n",
       "</tr>\n",
       "<tr>\n",
       "  <th>ITALIA</th>             <td>   -0.1398</td> <td>    0.116</td> <td>   -1.209</td> <td> 0.227</td> <td>   -0.366</td> <td>    0.087</td>\n",
       "</tr>\n",
       "<tr>\n",
       "  <th>KYPROS</th>             <td>   -1.0070</td> <td>    0.166</td> <td>   -6.058</td> <td> 0.000</td> <td>   -1.333</td> <td>   -0.681</td>\n",
       "</tr>\n",
       "<tr>\n",
       "  <th>LIETUVA</th>            <td>   -0.8437</td> <td>    0.123</td> <td>   -6.854</td> <td> 0.000</td> <td>   -1.085</td> <td>   -0.602</td>\n",
       "</tr>\n",
       "<tr>\n",
       "  <th>LUXEMBOURG</th>         <td>    1.1811</td> <td>    0.122</td> <td>    9.648</td> <td> 0.000</td> <td>    0.941</td> <td>    1.421</td>\n",
       "</tr>\n",
       "<tr>\n",
       "  <th>MAGYARORSZAG</th>       <td>   -1.2529</td> <td>    0.143</td> <td>   -8.779</td> <td> 0.000</td> <td>   -1.533</td> <td>   -0.973</td>\n",
       "</tr>\n",
       "<tr>\n",
       "  <th>MALTA</th>              <td>   -0.1804</td> <td>    0.141</td> <td>   -1.283</td> <td> 0.200</td> <td>   -0.456</td> <td>    0.095</td>\n",
       "</tr>\n",
       "<tr>\n",
       "  <th>NEDERLAND</th>          <td>    0.8473</td> <td>    0.106</td> <td>    7.986</td> <td> 0.000</td> <td>    0.639</td> <td>    1.055</td>\n",
       "</tr>\n",
       "<tr>\n",
       "  <th>POLSKA</th>             <td>   -0.2243</td> <td>    0.115</td> <td>   -1.947</td> <td> 0.052</td> <td>   -0.450</td> <td>    0.002</td>\n",
       "</tr>\n",
       "<tr>\n",
       "  <th>PORTUGAL</th>           <td>   -0.8110</td> <td>    0.125</td> <td>   -6.509</td> <td> 0.000</td> <td>   -1.055</td> <td>   -0.567</td>\n",
       "</tr>\n",
       "<tr>\n",
       "  <th>ROMANIA</th>            <td>   -1.4912</td> <td>    0.142</td> <td>  -10.464</td> <td> 0.000</td> <td>   -1.770</td> <td>   -1.212</td>\n",
       "</tr>\n",
       "<tr>\n",
       "  <th>SLOVENIJA</th>          <td>   -0.8161</td> <td>    0.136</td> <td>   -6.021</td> <td> 0.000</td> <td>   -1.082</td> <td>   -0.550</td>\n",
       "</tr>\n",
       "<tr>\n",
       "  <th>SLOVENSKA REPUBLIC</th> <td>   -0.7602</td> <td>    0.121</td> <td>   -6.277</td> <td> 0.000</td> <td>   -0.998</td> <td>   -0.523</td>\n",
       "</tr>\n",
       "<tr>\n",
       "  <th>SUOMI</th>              <td>    0.5772</td> <td>    0.108</td> <td>    5.339</td> <td> 0.000</td> <td>    0.365</td> <td>    0.789</td>\n",
       "</tr>\n",
       "<tr>\n",
       "  <th>SVERIGE</th>            <td>    1.1998</td> <td>    0.106</td> <td>   11.306</td> <td> 0.000</td> <td>    0.992</td> <td>    1.408</td>\n",
       "</tr>\n",
       "<tr>\n",
       "  <th>UK</th>                 <td>    1.1793</td> <td>    0.105</td> <td>   11.235</td> <td> 0.000</td> <td>    0.974</td> <td>    1.385</td>\n",
       "</tr>\n",
       "<tr>\n",
       "  <th>ÖSTERREICH</th>         <td>    0.3514</td> <td>    0.109</td> <td>    3.232</td> <td> 0.001</td> <td>    0.138</td> <td>    0.564</td>\n",
       "</tr>\n",
       "<tr>\n",
       "  <th>d19</th>                <td>   -4.1220</td> <td>    0.133</td> <td>  -31.036</td> <td> 0.000</td> <td>   -4.382</td> <td>   -3.862</td>\n",
       "</tr>\n",
       "<tr>\n",
       "  <th>under20</th>            <td>    2.5258</td> <td>    0.100</td> <td>   25.351</td> <td> 0.000</td> <td>    2.331</td> <td>    2.721</td>\n",
       "</tr>\n",
       "<tr>\n",
       "  <th>over20under40</th>      <td>    2.0624</td> <td>    0.055</td> <td>   37.343</td> <td> 0.000</td> <td>    1.954</td> <td>    2.171</td>\n",
       "</tr>\n",
       "<tr>\n",
       "  <th>over40under65</th>      <td>    1.1173</td> <td>    0.048</td> <td>   23.205</td> <td> 0.000</td> <td>    1.023</td> <td>    1.212</td>\n",
       "</tr>\n",
       "<tr>\n",
       "  <th>d8a</th>                <td>    2.1192</td> <td>    0.114</td> <td>   18.619</td> <td> 0.000</td> <td>    1.896</td> <td>    2.342</td>\n",
       "</tr>\n",
       "</table>"
      ],
      "text/plain": [
       "<class 'statsmodels.iolib.summary.Summary'>\n",
       "\"\"\"\n",
       "                           Logit Regression Results                           \n",
       "==============================================================================\n",
       "Dep. Variable:                   q5_6   No. Observations:                26583\n",
       "Model:                          Logit   Df Residuals:                    26550\n",
       "Method:                           MLE   Df Model:                           32\n",
       "Date:                Fri, 03 Jul 2020   Pseudo R-squ.:                  0.2102\n",
       "Time:                        13:16:00   Log-Likelihood:                -11075.\n",
       "converged:                       True   LL-Null:                       -14023.\n",
       "Covariance Type:            nonrobust   LLR p-value:                     0.000\n",
       "======================================================================================\n",
       "                         coef    std err          z      P>|z|      [0.025      0.975]\n",
       "--------------------------------------------------------------------------------------\n",
       "d2                    -0.5223      0.034    -15.575      0.000      -0.588      -0.457\n",
       "BALGARIJA             -1.2125      0.143     -8.467      0.000      -1.493      -0.932\n",
       "BELGIQUE               0.0741      0.113      0.656      0.512      -0.147       0.296\n",
       "CESKA REPUBLIKA       -0.2395      0.113     -2.115      0.034      -0.461      -0.018\n",
       "DANMARK                1.3514      0.105     12.863      0.000       1.145       1.557\n",
       "DEUTSCHLAND            0.4594      0.108      4.249      0.000       0.247       0.671\n",
       "EESTI                 -0.8039      0.131     -6.159      0.000      -1.060      -0.548\n",
       "ELLADA                -0.8496      0.124     -6.827      0.000      -1.094      -0.606\n",
       "ESPANA                 0.0245      0.109      0.226      0.821      -0.188       0.237\n",
       "FRANCE                -0.0700      0.115     -0.609      0.543      -0.295       0.155\n",
       "HRVATSKA              -0.9389      0.134     -6.988      0.000      -1.202      -0.676\n",
       "IRELAND                1.3154      0.139      9.479      0.000       1.043       1.587\n",
       "ITALIA                -0.1398      0.116     -1.209      0.227      -0.366       0.087\n",
       "KYPROS                -1.0070      0.166     -6.058      0.000      -1.333      -0.681\n",
       "LIETUVA               -0.8437      0.123     -6.854      0.000      -1.085      -0.602\n",
       "LUXEMBOURG             1.1811      0.122      9.648      0.000       0.941       1.421\n",
       "MAGYARORSZAG          -1.2529      0.143     -8.779      0.000      -1.533      -0.973\n",
       "MALTA                 -0.1804      0.141     -1.283      0.200      -0.456       0.095\n",
       "NEDERLAND              0.8473      0.106      7.986      0.000       0.639       1.055\n",
       "POLSKA                -0.2243      0.115     -1.947      0.052      -0.450       0.002\n",
       "PORTUGAL              -0.8110      0.125     -6.509      0.000      -1.055      -0.567\n",
       "ROMANIA               -1.4912      0.142    -10.464      0.000      -1.770      -1.212\n",
       "SLOVENIJA             -0.8161      0.136     -6.021      0.000      -1.082      -0.550\n",
       "SLOVENSKA REPUBLIC    -0.7602      0.121     -6.277      0.000      -0.998      -0.523\n",
       "SUOMI                  0.5772      0.108      5.339      0.000       0.365       0.789\n",
       "SVERIGE                1.1998      0.106     11.306      0.000       0.992       1.408\n",
       "UK                     1.1793      0.105     11.235      0.000       0.974       1.385\n",
       "ÖSTERREICH             0.3514      0.109      3.232      0.001       0.138       0.564\n",
       "d19                   -4.1220      0.133    -31.036      0.000      -4.382      -3.862\n",
       "under20                2.5258      0.100     25.351      0.000       2.331       2.721\n",
       "over20under40          2.0624      0.055     37.343      0.000       1.954       2.171\n",
       "over40under65          1.1173      0.048     23.205      0.000       1.023       1.212\n",
       "d8a                    2.1192      0.114     18.619      0.000       1.896       2.342\n",
       "======================================================================================\n",
       "\"\"\""
      ]
     },
     "execution_count": 116,
     "metadata": {},
     "output_type": "execute_result"
    }
   ],
   "source": [
    "sm.Logit(newDatabase['q5_6'].astype(float), X1.astype(float)).fit().summary()"
   ]
  },
  {
   "cell_type": "markdown",
   "metadata": {},
   "source": [
    "## Regressions with the use of e-commerce\n",
    "### Countries"
   ]
  },
  {
   "cell_type": "code",
   "execution_count": 41,
   "metadata": {},
   "outputs": [
    {
     "data": {
      "text/plain": [
       "Not mentioned                    21359\n",
       "Yes, e-books or digital books      599\n",
       "Name: q11.4, dtype: int64"
      ]
     },
     "execution_count": 41,
     "metadata": {},
     "output_type": "execute_result"
    }
   ],
   "source": [
    "newDatabase['q11.4'].value_counts() "
   ]
  },
  {
   "cell_type": "code",
   "execution_count": 42,
   "metadata": {},
   "outputs": [
    {
     "data": {
      "text/plain": [
       "No               18498\n",
       "Not mentioned     3460\n",
       "Name: q11.6, dtype: int64"
      ]
     },
     "execution_count": 42,
     "metadata": {},
     "output_type": "execute_result"
    }
   ],
   "source": [
    "newDatabase['q11.6'].value_counts() "
   ]
  },
  {
   "cell_type": "code",
   "execution_count": 43,
   "metadata": {},
   "outputs": [
    {
     "data": {
      "text/plain": [
       "Not mentioned              21556\n",
       "DK/NA (DO NOT READ OUT)      402\n",
       "Name: q11.7, dtype: int64"
      ]
     },
     "execution_count": 43,
     "metadata": {},
     "output_type": "execute_result"
    }
   ],
   "source": [
    "newDatabase['q11.7'].value_counts() "
   ]
  },
  {
   "cell_type": "code",
   "execution_count": 44,
   "metadata": {},
   "outputs": [],
   "source": [
    "# Filter q4_1\n",
    "newDatabase['q11.1'] = newDatabase['q11.1'].replace(['Not mentioned', '0'], '0');\n",
    "newDatabase['q11.1'] = newDatabase['q11.1'].replace(['Yes, music'],'1');\n",
    "newDatabase['q11.1'].fillna('0', inplace = True);\n",
    "# Filter q4_2\n",
    "newDatabase['q11.2'] = newDatabase['q11.2'].replace(['Not mentioned', '0'], '0');\n",
    "newDatabase['q11.2'] = newDatabase['q11.2'].replace(['Yes, sports'],'1');\n",
    "newDatabase['q11.2'].fillna('0', inplace = True);\n",
    "# Filter q4_3\n",
    "newDatabase['q11.3'] = newDatabase['q11.3'].replace(['Not mentioned', '0'], '0');\n",
    "newDatabase['q11.3'] = newDatabase['q11.3'].replace(['Yes, audio-visual content such as films, series and all TV content, excluding sports'],'1');\n",
    "newDatabase['q11.3'].fillna('0', inplace = True);\n",
    "# Filter q4_4\n",
    "newDatabase['q11.4'] = newDatabase['q11.4'].replace(['Not mentioned', '0'], '0');\n",
    "newDatabase['q11.4'] = newDatabase['q11.4'].replace(['Yes, e-books or digital books'],'1');\n",
    "newDatabase['q11.4'].fillna('0', inplace = True);\n",
    "# Filter q4_5\n",
    "newDatabase['q11.5'] = newDatabase['q11.5'].replace(['Not mentioned', '0'], '0');\n",
    "newDatabase['q11.5'] = newDatabase['q11.5'].replace(['Yes, games or gaming apps'],'1');\n",
    "newDatabase['q11.5'].fillna('0', inplace = True);"
   ]
  },
  {
   "cell_type": "code",
   "execution_count": 45,
   "metadata": {},
   "outputs": [],
   "source": [
    "newDatabase['q11'] = newDatabase['q11.1'].astype(\"int64\") + newDatabase['q11.2'].astype(\"int64\") + newDatabase['q11.3'].astype(\"int64\") + newDatabase['q11.4'].astype(\"int64\") + newDatabase['q11.5'].astype(\"int64\");\n",
    "newDatabase['q11'] = newDatabase['q11'].replace([2,3,4,5],1);"
   ]
  },
  {
   "cell_type": "code",
   "execution_count": 46,
   "metadata": {},
   "outputs": [
    {
     "data": {
      "text/plain": [
       "0        0\n",
       "1        0\n",
       "2        0\n",
       "3        0\n",
       "4        0\n",
       "        ..\n",
       "26578    0\n",
       "26579    0\n",
       "26580    0\n",
       "26581    0\n",
       "26582    0\n",
       "Name: q11, Length: 26583, dtype: int64"
      ]
     },
     "execution_count": 46,
     "metadata": {},
     "output_type": "execute_result"
    }
   ],
   "source": [
    "Ycommerce = newDatabase['q11'].dropna()\n",
    "Ycommerce"
   ]
  },
  {
   "cell_type": "code",
   "execution_count": 47,
   "metadata": {},
   "outputs": [
    {
     "name": "stdout",
     "output_type": "stream",
     "text": [
      "Optimization terminated successfully.\n",
      "         Current function value: 0.358637\n",
      "         Iterations 7\n"
     ]
    },
    {
     "data": {
      "text/html": [
       "<table class=\"simpletable\">\n",
       "<caption>Logit Regression Results</caption>\n",
       "<tr>\n",
       "  <th>Dep. Variable:</th>          <td>q11</td>       <th>  No. Observations:  </th>  <td> 26583</td>  \n",
       "</tr>\n",
       "<tr>\n",
       "  <th>Model:</th>                 <td>Logit</td>      <th>  Df Residuals:      </th>  <td> 26556</td>  \n",
       "</tr>\n",
       "<tr>\n",
       "  <th>Method:</th>                 <td>MLE</td>       <th>  Df Model:          </th>  <td>    26</td>  \n",
       "</tr>\n",
       "<tr>\n",
       "  <th>Date:</th>            <td>Thu, 02 Jul 2020</td> <th>  Pseudo R-squ.:     </th> <td>-0.004821</td>\n",
       "</tr>\n",
       "<tr>\n",
       "  <th>Time:</th>                <td>14:39:21</td>     <th>  Log-Likelihood:    </th> <td> -9533.6</td> \n",
       "</tr>\n",
       "<tr>\n",
       "  <th>converged:</th>             <td>True</td>       <th>  LL-Null:           </th> <td> -9487.9</td> \n",
       "</tr>\n",
       "<tr>\n",
       "  <th>Covariance Type:</th>     <td>nonrobust</td>    <th>  LLR p-value:       </th>  <td> 1.000</td>  \n",
       "</tr>\n",
       "</table>\n",
       "<table class=\"simpletable\">\n",
       "<tr>\n",
       "           <td></td>             <th>coef</th>     <th>std err</th>      <th>z</th>      <th>P>|z|</th>  <th>[0.025</th>    <th>0.975]</th>  \n",
       "</tr>\n",
       "<tr>\n",
       "  <th>BALGARIJA</th>          <td>   -2.3070</td> <td>    0.110</td> <td>  -20.987</td> <td> 0.000</td> <td>   -2.522</td> <td>   -2.092</td>\n",
       "</tr>\n",
       "<tr>\n",
       "  <th>BELGIQUE</th>           <td>   -1.5696</td> <td>    0.083</td> <td>  -18.836</td> <td> 0.000</td> <td>   -1.733</td> <td>   -1.406</td>\n",
       "</tr>\n",
       "<tr>\n",
       "  <th>CESKA REPUBLIKA</th>    <td>   -1.8672</td> <td>    0.093</td> <td>  -20.116</td> <td> 0.000</td> <td>   -2.049</td> <td>   -1.685</td>\n",
       "</tr>\n",
       "<tr>\n",
       "  <th>DANMARK</th>            <td>   -2.1240</td> <td>    0.102</td> <td>  -20.765</td> <td> 0.000</td> <td>   -2.324</td> <td>   -1.924</td>\n",
       "</tr>\n",
       "<tr>\n",
       "  <th>DEUTSCHLAND</th>        <td>   -2.6827</td> <td>    0.129</td> <td>  -20.764</td> <td> 0.000</td> <td>   -2.936</td> <td>   -2.429</td>\n",
       "</tr>\n",
       "<tr>\n",
       "  <th>EESTI</th>              <td>   -2.6662</td> <td>    0.128</td> <td>  -20.785</td> <td> 0.000</td> <td>   -2.918</td> <td>   -2.415</td>\n",
       "</tr>\n",
       "<tr>\n",
       "  <th>ELLADA</th>             <td>   -1.7630</td> <td>    0.089</td> <td>  -19.749</td> <td> 0.000</td> <td>   -1.938</td> <td>   -1.588</td>\n",
       "</tr>\n",
       "<tr>\n",
       "  <th>ESPANA</th>             <td>   -2.1752</td> <td>    0.104</td> <td>  -20.818</td> <td> 0.000</td> <td>   -2.380</td> <td>   -1.970</td>\n",
       "</tr>\n",
       "<tr>\n",
       "  <th>HRVATSKA</th>           <td>   -2.0399</td> <td>    0.099</td> <td>  -20.667</td> <td> 0.000</td> <td>   -2.233</td> <td>   -1.846</td>\n",
       "</tr>\n",
       "<tr>\n",
       "  <th>IRELAND</th>            <td>   -1.4013</td> <td>    0.079</td> <td>  -17.663</td> <td> 0.000</td> <td>   -1.557</td> <td>   -1.246</td>\n",
       "</tr>\n",
       "<tr>\n",
       "  <th>ITALIA</th>             <td>   -3.0550</td> <td>    0.153</td> <td>  -20.027</td> <td> 0.000</td> <td>   -3.354</td> <td>   -2.756</td>\n",
       "</tr>\n",
       "<tr>\n",
       "  <th>KYPROS</th>             <td>   -2.3514</td> <td>    0.158</td> <td>  -14.904</td> <td> 0.000</td> <td>   -2.661</td> <td>   -2.042</td>\n",
       "</tr>\n",
       "<tr>\n",
       "  <th>LATVIA</th>             <td>   -1.7663</td> <td>    0.090</td> <td>  -19.723</td> <td> 0.000</td> <td>   -1.942</td> <td>   -1.591</td>\n",
       "</tr>\n",
       "<tr>\n",
       "  <th>LIETUVA</th>            <td>   -2.5123</td> <td>    0.120</td> <td>  -20.925</td> <td> 0.000</td> <td>   -2.748</td> <td>   -2.277</td>\n",
       "</tr>\n",
       "<tr>\n",
       "  <th>LUXEMBOURG</th>         <td>   -1.0055</td> <td>    0.101</td> <td>   -9.997</td> <td> 0.000</td> <td>   -1.203</td> <td>   -0.808</td>\n",
       "</tr>\n",
       "<tr>\n",
       "  <th>MAGYARORSZAG</th>       <td>   -2.5931</td> <td>    0.124</td> <td>  -20.927</td> <td> 0.000</td> <td>   -2.836</td> <td>   -2.350</td>\n",
       "</tr>\n",
       "<tr>\n",
       "  <th>MALTA</th>              <td>   -1.0008</td> <td>    0.100</td> <td>   -9.981</td> <td> 0.000</td> <td>   -1.197</td> <td>   -0.804</td>\n",
       "</tr>\n",
       "<tr>\n",
       "  <th>NEDERLAND</th>          <td>   -2.3850</td> <td>    0.113</td> <td>  -21.041</td> <td> 0.000</td> <td>   -2.607</td> <td>   -2.163</td>\n",
       "</tr>\n",
       "<tr>\n",
       "  <th>POLSKA</th>             <td>   -1.8489</td> <td>    0.092</td> <td>  -20.042</td> <td> 0.000</td> <td>   -2.030</td> <td>   -1.668</td>\n",
       "</tr>\n",
       "<tr>\n",
       "  <th>PORTUGAL</th>           <td>   -2.0705</td> <td>    0.100</td> <td>  -20.648</td> <td> 0.000</td> <td>   -2.267</td> <td>   -1.874</td>\n",
       "</tr>\n",
       "<tr>\n",
       "  <th>ROMANIA</th>            <td>   -2.0354</td> <td>    0.099</td> <td>  -20.616</td> <td> 0.000</td> <td>   -2.229</td> <td>   -1.842</td>\n",
       "</tr>\n",
       "<tr>\n",
       "  <th>SLOVENIJA</th>          <td>   -2.4055</td> <td>    0.115</td> <td>  -20.989</td> <td> 0.000</td> <td>   -2.630</td> <td>   -2.181</td>\n",
       "</tr>\n",
       "<tr>\n",
       "  <th>SLOVENSKA REPUBLIC</th> <td>   -2.1169</td> <td>    0.102</td> <td>  -20.784</td> <td> 0.000</td> <td>   -2.317</td> <td>   -1.917</td>\n",
       "</tr>\n",
       "<tr>\n",
       "  <th>SUOMI</th>              <td>   -2.3405</td> <td>    0.112</td> <td>  -20.969</td> <td> 0.000</td> <td>   -2.559</td> <td>   -2.122</td>\n",
       "</tr>\n",
       "<tr>\n",
       "  <th>SVERIGE</th>            <td>   -2.4698</td> <td>    0.118</td> <td>  -20.945</td> <td> 0.000</td> <td>   -2.701</td> <td>   -2.239</td>\n",
       "</tr>\n",
       "<tr>\n",
       "  <th>UK</th>                 <td>   -1.9841</td> <td>    0.097</td> <td>  -20.464</td> <td> 0.000</td> <td>   -2.174</td> <td>   -1.794</td>\n",
       "</tr>\n",
       "<tr>\n",
       "  <th>ÖSTERREICH</th>         <td>   -1.7346</td> <td>    0.089</td> <td>  -19.586</td> <td> 0.000</td> <td>   -1.908</td> <td>   -1.561</td>\n",
       "</tr>\n",
       "</table>"
      ],
      "text/plain": [
       "<class 'statsmodels.iolib.summary.Summary'>\n",
       "\"\"\"\n",
       "                           Logit Regression Results                           \n",
       "==============================================================================\n",
       "Dep. Variable:                    q11   No. Observations:                26583\n",
       "Model:                          Logit   Df Residuals:                    26556\n",
       "Method:                           MLE   Df Model:                           26\n",
       "Date:                Thu, 02 Jul 2020   Pseudo R-squ.:               -0.004821\n",
       "Time:                        14:39:21   Log-Likelihood:                -9533.6\n",
       "converged:                       True   LL-Null:                       -9487.9\n",
       "Covariance Type:            nonrobust   LLR p-value:                     1.000\n",
       "======================================================================================\n",
       "                         coef    std err          z      P>|z|      [0.025      0.975]\n",
       "--------------------------------------------------------------------------------------\n",
       "BALGARIJA             -2.3070      0.110    -20.987      0.000      -2.522      -2.092\n",
       "BELGIQUE              -1.5696      0.083    -18.836      0.000      -1.733      -1.406\n",
       "CESKA REPUBLIKA       -1.8672      0.093    -20.116      0.000      -2.049      -1.685\n",
       "DANMARK               -2.1240      0.102    -20.765      0.000      -2.324      -1.924\n",
       "DEUTSCHLAND           -2.6827      0.129    -20.764      0.000      -2.936      -2.429\n",
       "EESTI                 -2.6662      0.128    -20.785      0.000      -2.918      -2.415\n",
       "ELLADA                -1.7630      0.089    -19.749      0.000      -1.938      -1.588\n",
       "ESPANA                -2.1752      0.104    -20.818      0.000      -2.380      -1.970\n",
       "HRVATSKA              -2.0399      0.099    -20.667      0.000      -2.233      -1.846\n",
       "IRELAND               -1.4013      0.079    -17.663      0.000      -1.557      -1.246\n",
       "ITALIA                -3.0550      0.153    -20.027      0.000      -3.354      -2.756\n",
       "KYPROS                -2.3514      0.158    -14.904      0.000      -2.661      -2.042\n",
       "LATVIA                -1.7663      0.090    -19.723      0.000      -1.942      -1.591\n",
       "LIETUVA               -2.5123      0.120    -20.925      0.000      -2.748      -2.277\n",
       "LUXEMBOURG            -1.0055      0.101     -9.997      0.000      -1.203      -0.808\n",
       "MAGYARORSZAG          -2.5931      0.124    -20.927      0.000      -2.836      -2.350\n",
       "MALTA                 -1.0008      0.100     -9.981      0.000      -1.197      -0.804\n",
       "NEDERLAND             -2.3850      0.113    -21.041      0.000      -2.607      -2.163\n",
       "POLSKA                -1.8489      0.092    -20.042      0.000      -2.030      -1.668\n",
       "PORTUGAL              -2.0705      0.100    -20.648      0.000      -2.267      -1.874\n",
       "ROMANIA               -2.0354      0.099    -20.616      0.000      -2.229      -1.842\n",
       "SLOVENIJA             -2.4055      0.115    -20.989      0.000      -2.630      -2.181\n",
       "SLOVENSKA REPUBLIC    -2.1169      0.102    -20.784      0.000      -2.317      -1.917\n",
       "SUOMI                 -2.3405      0.112    -20.969      0.000      -2.559      -2.122\n",
       "SVERIGE               -2.4698      0.118    -20.945      0.000      -2.701      -2.239\n",
       "UK                    -1.9841      0.097    -20.464      0.000      -2.174      -1.794\n",
       "ÖSTERREICH            -1.7346      0.089    -19.586      0.000      -1.908      -1.561\n",
       "======================================================================================\n",
       "\"\"\""
      ]
     },
     "execution_count": 47,
     "metadata": {},
     "output_type": "execute_result"
    }
   ],
   "source": [
    "sm.Logit(Ycommerce.astype(float), Xcountry.drop(['FRANCE'], axis=1).astype(float)).fit().summary()"
   ]
  },
  {
   "cell_type": "code",
   "execution_count": 48,
   "metadata": {},
   "outputs": [
    {
     "name": "stdout",
     "output_type": "stream",
     "text": [
      "Optimization terminated successfully.\n",
      "         Current function value: 0.475367\n",
      "         Iterations 6\n"
     ]
    },
    {
     "data": {
      "text/html": [
       "<table class=\"simpletable\">\n",
       "<caption>Logit Regression Results</caption>\n",
       "<tr>\n",
       "  <th>Dep. Variable:</th>          <td>q11</td>       <th>  No. Observations:  </th>  <td> 26583</td> \n",
       "</tr>\n",
       "<tr>\n",
       "  <th>Model:</th>                 <td>Logit</td>      <th>  Df Residuals:      </th>  <td> 26582</td> \n",
       "</tr>\n",
       "<tr>\n",
       "  <th>Method:</th>                 <td>MLE</td>       <th>  Df Model:          </th>  <td>     0</td> \n",
       "</tr>\n",
       "<tr>\n",
       "  <th>Date:</th>            <td>Thu, 02 Jul 2020</td> <th>  Pseudo R-squ.:     </th>  <td>-0.3319</td>\n",
       "</tr>\n",
       "<tr>\n",
       "  <th>Time:</th>                <td>14:39:21</td>     <th>  Log-Likelihood:    </th> <td> -12637.</td>\n",
       "</tr>\n",
       "<tr>\n",
       "  <th>converged:</th>             <td>True</td>       <th>  LL-Null:           </th> <td> -9487.9</td>\n",
       "</tr>\n",
       "<tr>\n",
       "  <th>Covariance Type:</th>     <td>nonrobust</td>    <th>  LLR p-value:       </th>  <td>   nan</td> \n",
       "</tr>\n",
       "</table>\n",
       "<table class=\"simpletable\">\n",
       "<tr>\n",
       "   <td></td>     <th>coef</th>     <th>std err</th>      <th>z</th>      <th>P>|z|</th>  <th>[0.025</th>    <th>0.975]</th>  \n",
       "</tr>\n",
       "<tr>\n",
       "  <th>d2</th> <td>   -2.3871</td> <td>    0.030</td> <td>  -79.301</td> <td> 0.000</td> <td>   -2.446</td> <td>   -2.328</td>\n",
       "</tr>\n",
       "</table>"
      ],
      "text/plain": [
       "<class 'statsmodels.iolib.summary.Summary'>\n",
       "\"\"\"\n",
       "                           Logit Regression Results                           \n",
       "==============================================================================\n",
       "Dep. Variable:                    q11   No. Observations:                26583\n",
       "Model:                          Logit   Df Residuals:                    26582\n",
       "Method:                           MLE   Df Model:                            0\n",
       "Date:                Thu, 02 Jul 2020   Pseudo R-squ.:                 -0.3319\n",
       "Time:                        14:39:21   Log-Likelihood:                -12637.\n",
       "converged:                       True   LL-Null:                       -9487.9\n",
       "Covariance Type:            nonrobust   LLR p-value:                       nan\n",
       "==============================================================================\n",
       "                 coef    std err          z      P>|z|      [0.025      0.975]\n",
       "------------------------------------------------------------------------------\n",
       "d2            -2.3871      0.030    -79.301      0.000      -2.446      -2.328\n",
       "==============================================================================\n",
       "\"\"\""
      ]
     },
     "execution_count": 48,
     "metadata": {},
     "output_type": "execute_result"
    }
   ],
   "source": [
    "sm.Logit(Ycommerce.astype(float), Xsexe.astype(float)).fit().summary()"
   ]
  },
  {
   "cell_type": "code",
   "execution_count": 49,
   "metadata": {},
   "outputs": [
    {
     "name": "stdout",
     "output_type": "stream",
     "text": [
      "Optimization terminated successfully.\n",
      "         Current function value: 0.510754\n",
      "         Iterations 6\n"
     ]
    },
    {
     "data": {
      "text/html": [
       "<table class=\"simpletable\">\n",
       "<caption>Logit Regression Results</caption>\n",
       "<tr>\n",
       "  <th>Dep. Variable:</th>          <td>q11</td>       <th>  No. Observations:  </th>  <td> 26583</td> \n",
       "</tr>\n",
       "<tr>\n",
       "  <th>Model:</th>                 <td>Logit</td>      <th>  Df Residuals:      </th>  <td> 26580</td> \n",
       "</tr>\n",
       "<tr>\n",
       "  <th>Method:</th>                 <td>MLE</td>       <th>  Df Model:          </th>  <td>     2</td> \n",
       "</tr>\n",
       "<tr>\n",
       "  <th>Date:</th>            <td>Thu, 02 Jul 2020</td> <th>  Pseudo R-squ.:     </th>  <td>-0.4310</td>\n",
       "</tr>\n",
       "<tr>\n",
       "  <th>Time:</th>                <td>14:39:21</td>     <th>  Log-Likelihood:    </th> <td> -13577.</td>\n",
       "</tr>\n",
       "<tr>\n",
       "  <th>converged:</th>             <td>True</td>       <th>  LL-Null:           </th> <td> -9487.9</td>\n",
       "</tr>\n",
       "<tr>\n",
       "  <th>Covariance Type:</th>     <td>nonrobust</td>    <th>  LLR p-value:       </th>  <td> 1.000</td> \n",
       "</tr>\n",
       "</table>\n",
       "<table class=\"simpletable\">\n",
       "<tr>\n",
       "        <td></td>           <th>coef</th>     <th>std err</th>      <th>z</th>      <th>P>|z|</th>  <th>[0.025</th>    <th>0.975]</th>  \n",
       "</tr>\n",
       "<tr>\n",
       "  <th>under20</th>       <td>   -0.8068</td> <td>    0.088</td> <td>   -9.174</td> <td> 0.000</td> <td>   -0.979</td> <td>   -0.634</td>\n",
       "</tr>\n",
       "<tr>\n",
       "  <th>over20under40</th> <td>   -1.1439</td> <td>    0.033</td> <td>  -34.308</td> <td> 0.000</td> <td>   -1.209</td> <td>   -1.079</td>\n",
       "</tr>\n",
       "<tr>\n",
       "  <th>over40under65</th> <td>   -2.0619</td> <td>    0.029</td> <td>  -71.698</td> <td> 0.000</td> <td>   -2.118</td> <td>   -2.005</td>\n",
       "</tr>\n",
       "</table>"
      ],
      "text/plain": [
       "<class 'statsmodels.iolib.summary.Summary'>\n",
       "\"\"\"\n",
       "                           Logit Regression Results                           \n",
       "==============================================================================\n",
       "Dep. Variable:                    q11   No. Observations:                26583\n",
       "Model:                          Logit   Df Residuals:                    26580\n",
       "Method:                           MLE   Df Model:                            2\n",
       "Date:                Thu, 02 Jul 2020   Pseudo R-squ.:                 -0.4310\n",
       "Time:                        14:39:21   Log-Likelihood:                -13577.\n",
       "converged:                       True   LL-Null:                       -9487.9\n",
       "Covariance Type:            nonrobust   LLR p-value:                     1.000\n",
       "=================================================================================\n",
       "                    coef    std err          z      P>|z|      [0.025      0.975]\n",
       "---------------------------------------------------------------------------------\n",
       "under20          -0.8068      0.088     -9.174      0.000      -0.979      -0.634\n",
       "over20under40    -1.1439      0.033    -34.308      0.000      -1.209      -1.079\n",
       "over40under65    -2.0619      0.029    -71.698      0.000      -2.118      -2.005\n",
       "=================================================================================\n",
       "\"\"\""
      ]
     },
     "execution_count": 49,
     "metadata": {},
     "output_type": "execute_result"
    }
   ],
   "source": [
    "sm.Logit(Ycommerce.astype(float), Xage.drop(['over65'], axis=1).astype(float)).fit().summary()"
   ]
  },
  {
   "cell_type": "code",
   "execution_count": 50,
   "metadata": {},
   "outputs": [
    {
     "name": "stdout",
     "output_type": "stream",
     "text": [
      "Optimization terminated successfully.\n",
      "         Current function value: 0.359180\n",
      "         Iterations 6\n"
     ]
    },
    {
     "data": {
      "text/html": [
       "<table class=\"simpletable\">\n",
       "<caption>Logit Regression Results</caption>\n",
       "<tr>\n",
       "  <th>Dep. Variable:</th>          <td>q11</td>       <th>  No. Observations:  </th>  <td> 26583</td>  \n",
       "</tr>\n",
       "<tr>\n",
       "  <th>Model:</th>                 <td>Logit</td>      <th>  Df Residuals:      </th>  <td> 26582</td>  \n",
       "</tr>\n",
       "<tr>\n",
       "  <th>Method:</th>                 <td>MLE</td>       <th>  Df Model:          </th>  <td>     0</td>  \n",
       "</tr>\n",
       "<tr>\n",
       "  <th>Date:</th>            <td>Thu, 02 Jul 2020</td> <th>  Pseudo R-squ.:     </th> <td>-0.006342</td>\n",
       "</tr>\n",
       "<tr>\n",
       "  <th>Time:</th>                <td>14:39:21</td>     <th>  Log-Likelihood:    </th> <td> -9548.1</td> \n",
       "</tr>\n",
       "<tr>\n",
       "  <th>converged:</th>             <td>True</td>       <th>  LL-Null:           </th> <td> -9487.9</td> \n",
       "</tr>\n",
       "<tr>\n",
       "  <th>Covariance Type:</th>     <td>nonrobust</td>    <th>  LLR p-value:       </th>  <td>   nan</td>  \n",
       "</tr>\n",
       "</table>\n",
       "<table class=\"simpletable\">\n",
       "<tr>\n",
       "   <td></td>      <th>coef</th>     <th>std err</th>      <th>z</th>      <th>P>|z|</th>  <th>[0.025</th>    <th>0.975]</th>  \n",
       "</tr>\n",
       "<tr>\n",
       "  <th>d19</th> <td>   -2.0391</td> <td>    0.019</td> <td> -105.808</td> <td> 0.000</td> <td>   -2.077</td> <td>   -2.001</td>\n",
       "</tr>\n",
       "</table>"
      ],
      "text/plain": [
       "<class 'statsmodels.iolib.summary.Summary'>\n",
       "\"\"\"\n",
       "                           Logit Regression Results                           \n",
       "==============================================================================\n",
       "Dep. Variable:                    q11   No. Observations:                26583\n",
       "Model:                          Logit   Df Residuals:                    26582\n",
       "Method:                           MLE   Df Model:                            0\n",
       "Date:                Thu, 02 Jul 2020   Pseudo R-squ.:               -0.006342\n",
       "Time:                        14:39:21   Log-Likelihood:                -9548.1\n",
       "converged:                       True   LL-Null:                       -9487.9\n",
       "Covariance Type:            nonrobust   LLR p-value:                       nan\n",
       "==============================================================================\n",
       "                 coef    std err          z      P>|z|      [0.025      0.975]\n",
       "------------------------------------------------------------------------------\n",
       "d19           -2.0391      0.019   -105.808      0.000      -2.077      -2.001\n",
       "==============================================================================\n",
       "\"\"\""
      ]
     },
     "execution_count": 50,
     "metadata": {},
     "output_type": "execute_result"
    }
   ],
   "source": [
    "sm.Logit(Ycommerce.astype(float), Xmobile.astype(float)).fit().summary()"
   ]
  },
  {
   "cell_type": "code",
   "execution_count": 51,
   "metadata": {},
   "outputs": [
    {
     "name": "stdout",
     "output_type": "stream",
     "text": [
      "Optimization terminated successfully.\n",
      "         Current function value: 0.453264\n",
      "         Iterations 6\n"
     ]
    },
    {
     "data": {
      "text/html": [
       "<table class=\"simpletable\">\n",
       "<caption>Logit Regression Results</caption>\n",
       "<tr>\n",
       "  <th>Dep. Variable:</th>          <td>q11</td>       <th>  No. Observations:  </th>  <td> 26583</td> \n",
       "</tr>\n",
       "<tr>\n",
       "  <th>Model:</th>                 <td>Logit</td>      <th>  Df Residuals:      </th>  <td> 26582</td> \n",
       "</tr>\n",
       "<tr>\n",
       "  <th>Method:</th>                 <td>MLE</td>       <th>  Df Model:          </th>  <td>     0</td> \n",
       "</tr>\n",
       "<tr>\n",
       "  <th>Date:</th>            <td>Thu, 02 Jul 2020</td> <th>  Pseudo R-squ.:     </th>  <td>-0.2699</td>\n",
       "</tr>\n",
       "<tr>\n",
       "  <th>Time:</th>                <td>14:39:21</td>     <th>  Log-Likelihood:    </th> <td> -12049.</td>\n",
       "</tr>\n",
       "<tr>\n",
       "  <th>converged:</th>             <td>True</td>       <th>  LL-Null:           </th> <td> -9487.9</td>\n",
       "</tr>\n",
       "<tr>\n",
       "  <th>Covariance Type:</th>     <td>nonrobust</td>    <th>  LLR p-value:       </th>  <td>   nan</td> \n",
       "</tr>\n",
       "</table>\n",
       "<table class=\"simpletable\">\n",
       "<tr>\n",
       "   <td></td>      <th>coef</th>     <th>std err</th>      <th>z</th>      <th>P>|z|</th>  <th>[0.025</th>    <th>0.975]</th>  \n",
       "</tr>\n",
       "<tr>\n",
       "  <th>d8a</th> <td>   -1.8233</td> <td>    0.019</td> <td>  -93.556</td> <td> 0.000</td> <td>   -1.862</td> <td>   -1.785</td>\n",
       "</tr>\n",
       "</table>"
      ],
      "text/plain": [
       "<class 'statsmodels.iolib.summary.Summary'>\n",
       "\"\"\"\n",
       "                           Logit Regression Results                           \n",
       "==============================================================================\n",
       "Dep. Variable:                    q11   No. Observations:                26583\n",
       "Model:                          Logit   Df Residuals:                    26582\n",
       "Method:                           MLE   Df Model:                            0\n",
       "Date:                Thu, 02 Jul 2020   Pseudo R-squ.:                 -0.2699\n",
       "Time:                        14:39:21   Log-Likelihood:                -12049.\n",
       "converged:                       True   LL-Null:                       -9487.9\n",
       "Covariance Type:            nonrobust   LLR p-value:                       nan\n",
       "==============================================================================\n",
       "                 coef    std err          z      P>|z|      [0.025      0.975]\n",
       "------------------------------------------------------------------------------\n",
       "d8a           -1.8233      0.019    -93.556      0.000      -1.862      -1.785\n",
       "==============================================================================\n",
       "\"\"\""
      ]
     },
     "execution_count": 51,
     "metadata": {},
     "output_type": "execute_result"
    }
   ],
   "source": [
    "sm.Logit(Ycommerce.astype(float), Xinternet.astype(float)).fit().summary()"
   ]
  },
  {
   "cell_type": "code",
   "execution_count": 61,
   "metadata": {},
   "outputs": [
    {
     "name": "stdout",
     "output_type": "stream",
     "text": [
      "Optimization terminated successfully.\n",
      "         Current function value: 0.311934\n",
      "         Iterations 8\n"
     ]
    },
    {
     "data": {
      "text/html": [
       "<table class=\"simpletable\">\n",
       "<caption>Logit Regression Results</caption>\n",
       "<tr>\n",
       "  <th>Dep. Variable:</th>          <td>q11</td>       <th>  No. Observations:  </th>  <td> 26583</td> \n",
       "</tr>\n",
       "<tr>\n",
       "  <th>Model:</th>                 <td>Logit</td>      <th>  Df Residuals:      </th>  <td> 26550</td> \n",
       "</tr>\n",
       "<tr>\n",
       "  <th>Method:</th>                 <td>MLE</td>       <th>  Df Model:          </th>  <td>    32</td> \n",
       "</tr>\n",
       "<tr>\n",
       "  <th>Date:</th>            <td>Thu, 02 Jul 2020</td> <th>  Pseudo R-squ.:     </th>  <td>0.1260</td> \n",
       "</tr>\n",
       "<tr>\n",
       "  <th>Time:</th>                <td>16:37:26</td>     <th>  Log-Likelihood:    </th> <td> -8292.1</td>\n",
       "</tr>\n",
       "<tr>\n",
       "  <th>converged:</th>             <td>True</td>       <th>  LL-Null:           </th> <td> -9487.9</td>\n",
       "</tr>\n",
       "<tr>\n",
       "  <th>Covariance Type:</th>     <td>nonrobust</td>    <th>  LLR p-value:       </th>  <td> 0.000</td> \n",
       "</tr>\n",
       "</table>\n",
       "<table class=\"simpletable\">\n",
       "<tr>\n",
       "           <td></td>             <th>coef</th>     <th>std err</th>      <th>z</th>      <th>P>|z|</th>  <th>[0.025</th>    <th>0.975]</th>  \n",
       "</tr>\n",
       "<tr>\n",
       "  <th>d2</th>                 <td>   -0.6478</td> <td>    0.041</td> <td>  -15.788</td> <td> 0.000</td> <td>   -0.728</td> <td>   -0.567</td>\n",
       "</tr>\n",
       "<tr>\n",
       "  <th>BALGARIJA</th>          <td>   -1.0792</td> <td>    0.139</td> <td>   -7.778</td> <td> 0.000</td> <td>   -1.351</td> <td>   -0.807</td>\n",
       "</tr>\n",
       "<tr>\n",
       "  <th>BELGIQUE</th>           <td>   -0.3493</td> <td>    0.118</td> <td>   -2.959</td> <td> 0.003</td> <td>   -0.581</td> <td>   -0.118</td>\n",
       "</tr>\n",
       "<tr>\n",
       "  <th>CESKA REPUBLIKA</th>    <td>   -0.8970</td> <td>    0.125</td> <td>   -7.156</td> <td> 0.000</td> <td>   -1.143</td> <td>   -0.651</td>\n",
       "</tr>\n",
       "<tr>\n",
       "  <th>DANMARK</th>            <td>   -1.0204</td> <td>    0.132</td> <td>   -7.720</td> <td> 0.000</td> <td>   -1.279</td> <td>   -0.761</td>\n",
       "</tr>\n",
       "<tr>\n",
       "  <th>DEUTSCHLAND</th>        <td>   -1.5568</td> <td>    0.154</td> <td>  -10.096</td> <td> 0.000</td> <td>   -1.859</td> <td>   -1.255</td>\n",
       "</tr>\n",
       "<tr>\n",
       "  <th>EESTI</th>              <td>   -1.4558</td> <td>    0.154</td> <td>   -9.479</td> <td> 0.000</td> <td>   -1.757</td> <td>   -1.155</td>\n",
       "</tr>\n",
       "<tr>\n",
       "  <th>ELLADA</th>             <td>   -0.7139</td> <td>    0.122</td> <td>   -5.832</td> <td> 0.000</td> <td>   -0.954</td> <td>   -0.474</td>\n",
       "</tr>\n",
       "<tr>\n",
       "  <th>ESPANA</th>             <td>   -1.2271</td> <td>    0.134</td> <td>   -9.166</td> <td> 0.000</td> <td>   -1.489</td> <td>   -0.965</td>\n",
       "</tr>\n",
       "<tr>\n",
       "  <th>HRVATSKA</th>           <td>   -0.7735</td> <td>    0.130</td> <td>   -5.956</td> <td> 0.000</td> <td>   -1.028</td> <td>   -0.519</td>\n",
       "</tr>\n",
       "<tr>\n",
       "  <th>IRELAND</th>            <td>   -0.2091</td> <td>    0.115</td> <td>   -1.823</td> <td> 0.068</td> <td>   -0.434</td> <td>    0.016</td>\n",
       "</tr>\n",
       "<tr>\n",
       "  <th>ITALIA</th>             <td>   -1.9243</td> <td>    0.174</td> <td>  -11.040</td> <td> 0.000</td> <td>   -2.266</td> <td>   -1.583</td>\n",
       "</tr>\n",
       "<tr>\n",
       "  <th>KYPROS</th>             <td>   -1.3084</td> <td>    0.182</td> <td>   -7.208</td> <td> 0.000</td> <td>   -1.664</td> <td>   -0.953</td>\n",
       "</tr>\n",
       "<tr>\n",
       "  <th>LATVIA</th>             <td>   -0.7489</td> <td>    0.123</td> <td>   -6.096</td> <td> 0.000</td> <td>   -0.990</td> <td>   -0.508</td>\n",
       "</tr>\n",
       "<tr>\n",
       "  <th>LIETUVA</th>            <td>   -1.5817</td> <td>    0.147</td> <td>  -10.778</td> <td> 0.000</td> <td>   -1.869</td> <td>   -1.294</td>\n",
       "</tr>\n",
       "<tr>\n",
       "  <th>LUXEMBOURG</th>         <td>   -0.0412</td> <td>    0.132</td> <td>   -0.313</td> <td> 0.754</td> <td>   -0.299</td> <td>    0.217</td>\n",
       "</tr>\n",
       "<tr>\n",
       "  <th>MAGYARORSZAG</th>       <td>   -1.4391</td> <td>    0.150</td> <td>   -9.598</td> <td> 0.000</td> <td>   -1.733</td> <td>   -1.145</td>\n",
       "</tr>\n",
       "<tr>\n",
       "  <th>MALTA</th>              <td>    0.1933</td> <td>    0.134</td> <td>    1.441</td> <td> 0.150</td> <td>   -0.070</td> <td>    0.456</td>\n",
       "</tr>\n",
       "<tr>\n",
       "  <th>NEDERLAND</th>          <td>   -1.1759</td> <td>    0.141</td> <td>   -8.352</td> <td> 0.000</td> <td>   -1.452</td> <td>   -0.900</td>\n",
       "</tr>\n",
       "<tr>\n",
       "  <th>POLSKA</th>             <td>   -0.7728</td> <td>    0.125</td> <td>   -6.186</td> <td> 0.000</td> <td>   -1.018</td> <td>   -0.528</td>\n",
       "</tr>\n",
       "<tr>\n",
       "  <th>PORTUGAL</th>           <td>   -1.0084</td> <td>    0.131</td> <td>   -7.706</td> <td> 0.000</td> <td>   -1.265</td> <td>   -0.752</td>\n",
       "</tr>\n",
       "<tr>\n",
       "  <th>ROMANIA</th>            <td>   -1.0396</td> <td>    0.130</td> <td>   -8.007</td> <td> 0.000</td> <td>   -1.294</td> <td>   -0.785</td>\n",
       "</tr>\n",
       "<tr>\n",
       "  <th>SLOVENIJA</th>          <td>   -1.0676</td> <td>    0.143</td> <td>   -7.489</td> <td> 0.000</td> <td>   -1.347</td> <td>   -0.788</td>\n",
       "</tr>\n",
       "<tr>\n",
       "  <th>SLOVENSKA REPUBLIC</th> <td>   -1.1574</td> <td>    0.132</td> <td>   -8.749</td> <td> 0.000</td> <td>   -1.417</td> <td>   -0.898</td>\n",
       "</tr>\n",
       "<tr>\n",
       "  <th>SUOMI</th>              <td>   -1.2416</td> <td>    0.140</td> <td>   -8.890</td> <td> 0.000</td> <td>   -1.515</td> <td>   -0.968</td>\n",
       "</tr>\n",
       "<tr>\n",
       "  <th>SVERIGE</th>            <td>   -1.2709</td> <td>    0.144</td> <td>   -8.803</td> <td> 0.000</td> <td>   -1.554</td> <td>   -0.988</td>\n",
       "</tr>\n",
       "<tr>\n",
       "  <th>UK</th>                 <td>   -0.8127</td> <td>    0.127</td> <td>   -6.391</td> <td> 0.000</td> <td>   -1.062</td> <td>   -0.563</td>\n",
       "</tr>\n",
       "<tr>\n",
       "  <th>ÖSTERREICH</th>         <td>   -0.5647</td> <td>    0.121</td> <td>   -4.649</td> <td> 0.000</td> <td>   -0.803</td> <td>   -0.327</td>\n",
       "</tr>\n",
       "<tr>\n",
       "  <th>d19</th>                <td>   -3.2364</td> <td>    0.126</td> <td>  -25.762</td> <td> 0.000</td> <td>   -3.483</td> <td>   -2.990</td>\n",
       "</tr>\n",
       "<tr>\n",
       "  <th>under20</th>            <td>    1.9178</td> <td>    0.108</td> <td>   17.839</td> <td> 0.000</td> <td>    1.707</td> <td>    2.129</td>\n",
       "</tr>\n",
       "<tr>\n",
       "  <th>over20under40</th>      <td>    1.6402</td> <td>    0.067</td> <td>   24.599</td> <td> 0.000</td> <td>    1.510</td> <td>    1.771</td>\n",
       "</tr>\n",
       "<tr>\n",
       "  <th>over40under65</th>      <td>    0.7382</td> <td>    0.063</td> <td>   11.785</td> <td> 0.000</td> <td>    0.615</td> <td>    0.861</td>\n",
       "</tr>\n",
       "<tr>\n",
       "  <th>d8a</th>                <td>    1.6623</td> <td>    0.116</td> <td>   14.317</td> <td> 0.000</td> <td>    1.435</td> <td>    1.890</td>\n",
       "</tr>\n",
       "</table>"
      ],
      "text/plain": [
       "<class 'statsmodels.iolib.summary.Summary'>\n",
       "\"\"\"\n",
       "                           Logit Regression Results                           \n",
       "==============================================================================\n",
       "Dep. Variable:                    q11   No. Observations:                26583\n",
       "Model:                          Logit   Df Residuals:                    26550\n",
       "Method:                           MLE   Df Model:                           32\n",
       "Date:                Thu, 02 Jul 2020   Pseudo R-squ.:                  0.1260\n",
       "Time:                        16:37:26   Log-Likelihood:                -8292.1\n",
       "converged:                       True   LL-Null:                       -9487.9\n",
       "Covariance Type:            nonrobust   LLR p-value:                     0.000\n",
       "======================================================================================\n",
       "                         coef    std err          z      P>|z|      [0.025      0.975]\n",
       "--------------------------------------------------------------------------------------\n",
       "d2                    -0.6478      0.041    -15.788      0.000      -0.728      -0.567\n",
       "BALGARIJA             -1.0792      0.139     -7.778      0.000      -1.351      -0.807\n",
       "BELGIQUE              -0.3493      0.118     -2.959      0.003      -0.581      -0.118\n",
       "CESKA REPUBLIKA       -0.8970      0.125     -7.156      0.000      -1.143      -0.651\n",
       "DANMARK               -1.0204      0.132     -7.720      0.000      -1.279      -0.761\n",
       "DEUTSCHLAND           -1.5568      0.154    -10.096      0.000      -1.859      -1.255\n",
       "EESTI                 -1.4558      0.154     -9.479      0.000      -1.757      -1.155\n",
       "ELLADA                -0.7139      0.122     -5.832      0.000      -0.954      -0.474\n",
       "ESPANA                -1.2271      0.134     -9.166      0.000      -1.489      -0.965\n",
       "HRVATSKA              -0.7735      0.130     -5.956      0.000      -1.028      -0.519\n",
       "IRELAND               -0.2091      0.115     -1.823      0.068      -0.434       0.016\n",
       "ITALIA                -1.9243      0.174    -11.040      0.000      -2.266      -1.583\n",
       "KYPROS                -1.3084      0.182     -7.208      0.000      -1.664      -0.953\n",
       "LATVIA                -0.7489      0.123     -6.096      0.000      -0.990      -0.508\n",
       "LIETUVA               -1.5817      0.147    -10.778      0.000      -1.869      -1.294\n",
       "LUXEMBOURG            -0.0412      0.132     -0.313      0.754      -0.299       0.217\n",
       "MAGYARORSZAG          -1.4391      0.150     -9.598      0.000      -1.733      -1.145\n",
       "MALTA                  0.1933      0.134      1.441      0.150      -0.070       0.456\n",
       "NEDERLAND             -1.1759      0.141     -8.352      0.000      -1.452      -0.900\n",
       "POLSKA                -0.7728      0.125     -6.186      0.000      -1.018      -0.528\n",
       "PORTUGAL              -1.0084      0.131     -7.706      0.000      -1.265      -0.752\n",
       "ROMANIA               -1.0396      0.130     -8.007      0.000      -1.294      -0.785\n",
       "SLOVENIJA             -1.0676      0.143     -7.489      0.000      -1.347      -0.788\n",
       "SLOVENSKA REPUBLIC    -1.1574      0.132     -8.749      0.000      -1.417      -0.898\n",
       "SUOMI                 -1.2416      0.140     -8.890      0.000      -1.515      -0.968\n",
       "SVERIGE               -1.2709      0.144     -8.803      0.000      -1.554      -0.988\n",
       "UK                    -0.8127      0.127     -6.391      0.000      -1.062      -0.563\n",
       "ÖSTERREICH            -0.5647      0.121     -4.649      0.000      -0.803      -0.327\n",
       "d19                   -3.2364      0.126    -25.762      0.000      -3.483      -2.990\n",
       "under20                1.9178      0.108     17.839      0.000       1.707       2.129\n",
       "over20under40          1.6402      0.067     24.599      0.000       1.510       1.771\n",
       "over40under65          0.7382      0.063     11.785      0.000       0.615       0.861\n",
       "d8a                    1.6623      0.116     14.317      0.000       1.435       1.890\n",
       "======================================================================================\n",
       "\"\"\""
      ]
     },
     "execution_count": 61,
     "metadata": {},
     "output_type": "execute_result"
    }
   ],
   "source": [
    "sm.Logit(Ycommerce.astype(float), X1.astype(float)).fit().summary()"
   ]
  },
  {
   "cell_type": "code",
   "execution_count": 53,
   "metadata": {},
   "outputs": [
    {
     "data": {
      "text/plain": [
       "Index(['d2', 'BALGARIJA', 'BELGIQUE', 'CESKA REPUBLIKA', 'DANMARK',\n",
       "       'DEUTSCHLAND', 'EESTI', 'ELLADA', 'ESPANA', 'HRVATSKA', 'IRELAND',\n",
       "       'ITALIA', 'KYPROS', 'LATVIA', 'LIETUVA', 'LUXEMBOURG', 'MAGYARORSZAG',\n",
       "       'MALTA', 'NEDERLAND', 'POLSKA', 'PORTUGAL', 'ROMANIA', 'SLOVENIJA',\n",
       "       'SLOVENSKA REPUBLIC', 'SUOMI', 'SVERIGE', 'UK', 'ÖSTERREICH', 'd19',\n",
       "       'under20', 'over20under40', 'over40under65', 'over65', 'd8a'],\n",
       "      dtype='object')"
      ]
     },
     "execution_count": 53,
     "metadata": {},
     "output_type": "execute_result"
    }
   ],
   "source": [
    "X1.columns"
   ]
  },
  {
   "cell_type": "code",
   "execution_count": 54,
   "metadata": {},
   "outputs": [],
   "source": [
    "#keys= newDatabase.keys();\n",
    "#[print(a) for a in keys]"
   ]
  },
  {
   "cell_type": "code",
   "execution_count": 95,
   "metadata": {},
   "outputs": [
    {
     "data": {
      "image/png": "[encoded data removed]",
      "text/plain": [
       "<Figure size 720x720 with 5 Axes>"
      ]
     },
     "metadata": {},
     "output_type": "display_data"
    }
   ],
   "source": [
    "newdf = newDatabase.query('d2 == \"1\"')\n",
    "\n",
    "pieDownload_Stream_music = newdf['q4_1'].value_counts();\n",
    "pieDownload_Stream_sports = newdf['q4_2'].value_counts()\n",
    "pieDownload_Stream_audiovis = newdf['q4_3'].value_counts();\n",
    "pieDownload_Stream_ebooks = newdf['q4_4'].value_counts();\n",
    "pieDownload_Stream_gaming = newdf['q4_5'].value_counts();\n",
    "\n",
    "fig = plt.figure()\n",
    "fig.suptitle('How often do you use the interet to', fontsize=16)\n",
    "q4_1 = plt.subplot(321);\n",
    "q4_2 = plt.subplot(322);\n",
    "q4_3 = plt.subplot(323);\n",
    "q4_4 = plt.subplot(324);\n",
    "q4_5 = plt.subplot(325);\n",
    "\n",
    "q4_1 = pieDownload_Stream_music.plot.pie(title = 'Download or stream Music?', ax=q4_1, figsize=(10,10));\n",
    "q4_2 = pieDownload_Stream_sports.plot.pie(title = 'Download or stream Sports?', ax=q4_2, figsize=(10,10));\n",
    "q4_3 = pieDownload_Stream_audiovis.plot.pie(title = 'Download or stream Audiovisual Content?', ax=q4_3, figsize=(10,10));\n",
    "q4_4 = pieDownload_Stream_ebooks.plot.pie(title = 'Download or stream Ebooks?', ax=q4_4, figsize=(10,10));\n",
    "q4_5 = pieDownload_Stream_gaming.plot.pie(title = 'Download or stream games?', ax=q4_5, figsize=(10,10));"
   ]
  },
  {
   "cell_type": "code",
   "execution_count": null,
   "metadata": {},
   "outputs": [],
   "source": []
  }
 ],
 "metadata": {
  "kernelspec": {
   "display_name": "Python 3",
   "language": "python",
   "name": "python3"
  },
  "language_info": {
   "codemirror_mode": {
    "name": "ipython",
    "version": 3
   },
   "file_extension": ".py",
   "mimetype": "text/x-python",
   "name": "python",
   "nbconvert_exporter": "python",
   "pygments_lexer": "ipython3",
   "version": "3.7.4"
  }
 },
 "nbformat": 4,
 "nbformat_minor": 2
}
