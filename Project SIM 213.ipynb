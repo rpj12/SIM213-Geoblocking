{
 "cells": [
  {
   "cell_type": "markdown",
   "metadata": {},
   "source": [
    "# Project SIM213 - Geo-blocking and e-commerce in the European Union\n",
    "### Supervisor: Prof. Lukasz Grzybowski\n",
    "### Team: Maxime Gaby Bustros and Ruila Puskas-Juhasz\n"
   ]
  },
  {
   "cell_type": "code",
   "execution_count": 1,
   "metadata": {},
   "outputs": [],
   "source": [
    "import pandas as pd\n",
    "import matplotlib.pyplot as plt\n",
    "import numpy as np\n",
    "import seaborn as sns"
   ]
  },
  {
   "cell_type": "code",
   "execution_count": 2,
   "metadata": {},
   "outputs": [],
   "source": [
    "import pandas as pd\n",
    "database = pd.read_spss('ZA7554_v1-0-0.sav')"
   ]
  },
  {
   "cell_type": "code",
   "execution_count": 3,
   "metadata": {},
   "outputs": [
    {
     "data": {
      "text/html": [
       "<style>pre { white-space: pre !important; }</style>"
      ],
      "text/plain": [
       "<IPython.core.display.HTML object>"
      ]
     },
     "metadata": {},
     "output_type": "display_data"
    }
   ],
   "source": [
    "## Enables horizontal scrolling for output windows\n",
    "from IPython.core.display import HTML\n",
    "display(HTML(\"<style>pre { white-space: pre !important; }</style>\"))"
   ]
  },
  {
   "cell_type": "code",
   "execution_count": 4,
   "metadata": {},
   "outputs": [],
   "source": [
    "# Deep copy to modify\n",
    "newDatabase = database.copy()"
   ]
  },
  {
   "cell_type": "markdown",
   "metadata": {},
   "source": [
    "## Clean Database"
   ]
  },
  {
   "cell_type": "markdown",
   "metadata": {},
   "source": [
    "### Filter question by yes or no if someone uses the internet"
   ]
  },
  {
   "cell_type": "code",
   "execution_count": 5,
   "metadata": {},
   "outputs": [],
   "source": [
    "newDatabase['d8a'] = newDatabase['d8a'].replace(['Never', 'No Internet access (DO NOT READ OUT)'],'0');\n",
    "newDatabase['d8a'] = newDatabase['d8a'].replace(['DK/NA (DO NOT READ OUT)', 'Two or three times a month', 'Two or three times a week', 'About once a week', 'Every day or almost every day', 'Less often'], '1')"
   ]
  },
  {
   "cell_type": "markdown",
   "metadata": {},
   "source": [
    "### Filter question on download or stream content"
   ]
  },
  {
   "cell_type": "code",
   "execution_count": 6,
   "metadata": {},
   "outputs": [],
   "source": [
    "# Filter q4_1\n",
    "newDatabase['q4_1'] = newDatabase['q4_1'].replace(['NaN', 'Never', 'DK/NA (DO NOT READ OUT)'], '0');\n",
    "newDatabase['q4_1'] = newDatabase['q4_1'].replace(['Less often', 'Every day or almost every day', 'At least once a month', 'At least once a week'],'1');\n",
    "newDatabase['q4_1'].fillna('0', inplace = True);\n",
    "# Filter q4_2\n",
    "newDatabase['q4_2'] = newDatabase['q4_2'].replace(['NaN', 'Never', 'DK/NA (DO NOT READ OUT)'], '0');\n",
    "newDatabase['q4_2'] = newDatabase['q4_2'].replace(['Less often', 'Every day or almost every day', 'At least once a month', 'At least once a week'],'1');\n",
    "newDatabase['q4_2'].fillna('0', inplace = True);\n",
    "# Filter q4_3\n",
    "newDatabase['q4_3'] = newDatabase['q4_3'].replace(['NaN', 'Never', 'DK/NA (DO NOT READ OUT)'], '0');\n",
    "newDatabase['q4_3'] = newDatabase['q4_3'].replace(['Less often', 'Every day or almost every day', 'At least once a month', 'At least once a week'],'1');\n",
    "newDatabase['q4_3'].fillna('0', inplace = True);\n",
    "# Filter q4_4\n",
    "newDatabase['q4_4'] = newDatabase['q4_4'].replace(['NaN', 'Never', 'DK/NA (DO NOT READ OUT)'], '0');\n",
    "newDatabase['q4_4'] = newDatabase['q4_4'].replace(['Less often', 'Every day or almost every day', 'At least once a month', 'At least once a week'],'1');\n",
    "newDatabase['q4_4'].fillna('0', inplace = True);\n",
    "# Filter q4_5\n",
    "newDatabase['q4_5'] = newDatabase['q4_5'].replace(['NaN', 'Never', 'DK/NA (DO NOT READ OUT)'], '0');\n",
    "newDatabase['q4_5'] = newDatabase['q4_5'].replace(['Less often', 'Every day or almost every day', 'At least once a month', 'At least once a week'],'1');\n",
    "newDatabase['q4_5'].fillna('0', inplace = True);"
   ]
  },
  {
   "cell_type": "code",
   "execution_count": 7,
   "metadata": {},
   "outputs": [
    {
     "data": {
      "text/plain": [
       "0        0\n",
       "1        0\n",
       "2        0\n",
       "3        0\n",
       "4        0\n",
       "        ..\n",
       "26578    0\n",
       "26579    0\n",
       "26580    0\n",
       "26581    0\n",
       "26582    1\n",
       "Name: q4_2, Length: 26583, dtype: category\n",
       "Categories (2, object): [1, 0]"
      ]
     },
     "execution_count": 7,
     "metadata": {},
     "output_type": "execute_result"
    }
   ],
   "source": [
    "newDatabase['q4_2']"
   ]
  },
  {
   "cell_type": "markdown",
   "metadata": {},
   "source": [
    "### Replace Male female by female 1 or 0"
   ]
  },
  {
   "cell_type": "code",
   "execution_count": 8,
   "metadata": {},
   "outputs": [],
   "source": [
    "newDatabase['d2'] = newDatabase['d2'].replace('Male', '0');\n",
    "newDatabase['d2'] = newDatabase['d2'].replace('Female', '1');"
   ]
  },
  {
   "cell_type": "markdown",
   "metadata": {},
   "source": [
    "### Replace Phone Ownership by 1/0 instead of Yes/No"
   ]
  },
  {
   "cell_type": "code",
   "execution_count": 9,
   "metadata": {},
   "outputs": [],
   "source": [
    "newDatabase['d18'] = newDatabase['d18'].replace('Yes', '1');\n",
    "newDatabase['d18'] = newDatabase['d18'].replace(['No', 'NaN'], '0');\n",
    "newDatabase['d18'].fillna('0', inplace = True);"
   ]
  },
  {
   "cell_type": "markdown",
   "metadata": {},
   "source": [
    "### Clean Age Values"
   ]
  },
  {
   "cell_type": "code",
   "execution_count": 10,
   "metadata": {},
   "outputs": [],
   "source": [
    "newDatabase['d1'] = newDatabase['d1'].replace('98 years', '98');\n",
    "newDatabase['d1'] = newDatabase['d1'].replace('15 years', '15');"
   ]
  },
  {
   "cell_type": "markdown",
   "metadata": {},
   "source": [
    "### Replace by bought or not bought for each question"
   ]
  },
  {
   "cell_type": "code",
   "execution_count": 11,
   "metadata": {},
   "outputs": [
    {
     "name": "stdout",
     "output_type": "stream",
     "text": [
      "[NaN, Paid per item, Paid a subscription, Free of charge without registration, Free of charge upon registration (including fr..., DK/NA (DO NOT READ OUT)]\n",
      "Categories (5, object): [Paid per item, Paid a subscription, Free of charge without registration, Free of charge upon registration (including fr..., DK/NA (DO NOT READ OUT)]\n"
     ]
    }
   ],
   "source": [
    "print(newDatabase['q5_1'].unique())"
   ]
  },
  {
   "cell_type": "code",
   "execution_count": 12,
   "metadata": {},
   "outputs": [],
   "source": [
    "newDatabase['q5_1'] = newDatabase['q5_1'].replace(['Paid a subscription','Paid per item'], '1');\n",
    "newDatabase['q5_1'] = newDatabase['q5_1'].replace(['Free of charge without registration','DK/NA (DO NOT READ OUT)','Free of charge upon registration (including free subscription)'], '0');\n",
    "newDatabase['q5_1'].fillna('0', inplace = True);\n",
    "\n",
    "newDatabase['q5_2'] = newDatabase['q5_2'].replace(['Paid a subscription','Paid per item'], '1');\n",
    "newDatabase['q5_2'] = newDatabase['q5_2'].replace(['Free of charge without registration','DK/NA (DO NOT READ OUT)','Free of charge upon registration (including free subscription)'], '0');\n",
    "newDatabase['q5_2'].fillna('0', inplace = True);\n",
    "\n",
    "newDatabase['q5_3'] = newDatabase['q5_3'].replace(['Paid a subscription','Paid per item'], '1');\n",
    "newDatabase['q5_3'] = newDatabase['q5_3'].replace(['Free of charge without registration','DK/NA (DO NOT READ OUT)','Free of charge upon registration (including free subscription)'], '0');\n",
    "newDatabase['q5_3'].fillna('0', inplace = True);\n",
    "\n",
    "newDatabase['q5_4'] = newDatabase['q5_4'].replace(['Paid a subscription','Paid per item'], '1');\n",
    "newDatabase['q5_4'] = newDatabase['q5_4'].replace(['Free of charge without registration','DK/NA (DO NOT READ OUT)','Free of charge upon registration (including free subscription)'], '0');\n",
    "newDatabase['q5_4'].fillna('0', inplace = True);\n",
    "\n",
    "newDatabase['q5_5'] = newDatabase['q5_5'].replace(['Paid a subscription','Paid per item'], '1');\n",
    "newDatabase['q5_5'] = newDatabase['q5_5'].replace(['Free of charge without registration','DK/NA (DO NOT READ OUT)','Free of charge upon registration (including free subscription)'], '0');\n",
    "newDatabase['q5_5'].fillna('0', inplace = True);"
   ]
  },
  {
   "cell_type": "code",
   "execution_count": 13,
   "metadata": {},
   "outputs": [
    {
     "data": {
      "text/plain": [
       "0        0\n",
       "1        0\n",
       "2        0\n",
       "3        0\n",
       "4        0\n",
       "        ..\n",
       "26578    0\n",
       "26579    0\n",
       "26580    0\n",
       "26581    0\n",
       "26582    0\n",
       "Name: q5_1, Length: 26583, dtype: category\n",
       "Categories (2, object): [0, 1]"
      ]
     },
     "execution_count": 13,
     "metadata": {},
     "output_type": "execute_result"
    }
   ],
   "source": [
    "newDatabase['q5_1']"
   ]
  },
  {
   "cell_type": "code",
   "execution_count": 14,
   "metadata": {},
   "outputs": [],
   "source": [
    "newDatabase['q5_6'] = newDatabase['q5_1'].astype(\"int64\") + newDatabase['q5_2'].astype(\"int64\") + newDatabase['q5_3'].astype(\"int64\") + newDatabase['q5_4'].astype(\"int64\") + newDatabase['q5_5'].astype(\"int64\");\n",
    "newDatabase['q5_6'] = newDatabase['q5_6'].replace([2,3,4,5],1);"
   ]
  },
  {
   "cell_type": "markdown",
   "metadata": {},
   "source": [
    "### Filter By Country"
   ]
  },
  {
   "cell_type": "code",
   "execution_count": 15,
   "metadata": {},
   "outputs": [],
   "source": [
    "entriesByCountry = {};\n",
    "for i, country in enumerate(newDatabase['tnscntry'].unique()):\n",
    "    arr = [];\n",
    "    for entry in newDatabase['tnscntry']:\n",
    "        if (entry == country):\n",
    "            arr.append(True);\n",
    "        else:\n",
    "            arr.append(False);\n",
    "    entriesByCountry[country] = newDatabase[arr];\n",
    "    "
   ]
  },
  {
   "cell_type": "code",
   "execution_count": 16,
   "metadata": {},
   "outputs": [],
   "source": [
    "# average age, percentage of females asked. Age differences acrosse countries."
   ]
  },
  {
   "cell_type": "markdown",
   "metadata": {},
   "source": [
    "### Descriptive Statistics by country"
   ]
  },
  {
   "cell_type": "code",
   "execution_count": 17,
   "metadata": {
    "scrolled": true
   },
   "outputs": [],
   "source": [
    "arr = []\n",
    "for entries in entriesByCountry:\n",
    "    percentInternetUsers = entriesByCountry[entries]['d8a'].astype(\"int64\").mean() * 100;\n",
    "    percentOfFemales = entriesByCountry[entries]['d2'].astype(\"int64\").mean() * 100;\n",
    "    averageAge = entriesByCountry[entries]['d1'].astype('int64').mean();\n",
    "    averagePhoneOwnership = entriesByCountry[entries]['d18'].astype('float64').mean() * 100;\n",
    "    percentageOfOnlineCustomers = entriesByCountry[entries]['q5_6'].astype('int64').mean() * 100;\n",
    "    arr.append([entries, len(entriesByCountry[entries]), round(percentOfFemales,1), round(averageAge,1), round(averagePhoneOwnership,1), round(percentInternetUsers,1), round(percentageOfOnlineCustomers,1)]);\n",
    "    \n",
    "\n",
    "df = pd.DataFrame(arr, columns=['Country', 'Nb of Respondents','% of Females Asked', 'Average Age', '% Who own a phone', '% of People who use the Internet','% of People who buy Online']);\n",
    "\n",
    "# Add mean\n",
    "mean = ['avg value', round(df['Nb of Respondents'].mean(),1), round(df['% of Females Asked'].mean(),1), round(df['Average Age'].mean(),1), round(df['% Who own a phone'].mean(),1), round(df['% of People who use the Internet'].mean(),1), round(df['% of People who buy Online'].mean(),1)];\n",
    "df.loc[len(df)] = mean;\n",
    "\n",
    "std = ['std of values', round(df['Nb of Respondents'].std(),1), round(df['% of Females Asked'].std(),1), round(df['Average Age'].std(),1), round(df['% Who own a phone'].std(),1), round(df['% of People who use the Internet'].std(),1), round(df['% of People who buy Online'].std(),1)];\n",
    "df.loc[len(df)] = std;"
   ]
  },
  {
   "cell_type": "code",
   "execution_count": 18,
   "metadata": {},
   "outputs": [
    {
     "name": "stdout",
     "output_type": "stream",
     "text": [
      "            Country  Nb of Respondents  % of Females Asked  Average Age  % Who own a phone  % of People who use the Internet  % of People who buy Online\n",
      "           BELGIQUE             1010.0                54.6         57.7               61.5                              81.6                        22.3\n",
      "            DANMARK             1002.0                51.7         57.2               26.7                              91.2                        46.3\n",
      "             ELLADA             1004.0                51.9         50.5               60.0                              84.0                        13.1\n",
      "             ESPANA             1000.0                51.8         50.2               43.9                              87.2                        26.1\n",
      "              SUOMI             1002.0                42.7         58.5                0.0                              85.1                        30.4\n",
      "             FRANCE             1006.0                54.6         58.8               58.6                              82.7                        19.1\n",
      "            IRELAND             1002.0                48.8         56.3               57.9                              85.7                        41.8\n",
      "             ITALIA             1000.0                53.8         55.7               45.5                              78.7                        19.1\n",
      "         LUXEMBOURG              504.0                57.7         48.4               63.3                              97.0                        52.2\n",
      "          NEDERLAND             1008.0                50.8         59.3               61.7                              90.1                        34.0\n",
      "         ÖSTERREICH             1000.0                50.6         56.7               45.5                              85.5                        27.4\n",
      "           PORTUGAL             1000.0                57.1         51.2               42.1                              79.6                        13.2\n",
      "            SVERIGE             1000.0                47.5         62.1               53.9                              88.7                        39.6\n",
      "        DEUTSCHLAND             1000.0                49.8         58.3               70.3                              87.9                        28.5\n",
      "                 UK             1001.0                49.7         57.0               65.8                              84.2                        42.1\n",
      "          BALGARIJA             1005.0                63.2         55.4               34.7                              76.6                         8.1\n",
      "             KYPROS              506.0                54.5         51.1               40.3                              72.9                        11.3\n",
      "    CESKA REPUBLIKA             1001.0                48.4         52.9                9.3                              85.3                        21.2\n",
      "              EESTI             1000.0                60.5         56.9               27.4                              77.0                        11.1\n",
      "       MAGYARORSZAG             1006.0                59.1         54.8               27.3                              82.4                         8.1\n",
      "             LATVIA             1000.0                59.5         51.5               10.4                              82.8                        14.6\n",
      "            LIETUVA             1000.0                57.0         50.9               12.6                              81.9                        13.9\n",
      "              MALTA              506.0                59.9         51.5               65.6                              80.8                        20.9\n",
      "             POLSKA             1000.0                49.3         55.2               24.2                              79.7                        19.7\n",
      "            ROMANIA             1004.0                52.2         49.5               25.1                              75.6                         8.0\n",
      " SLOVENSKA REPUBLIC             1005.0                53.3         50.5                8.6                              84.3                        14.7\n",
      "          SLOVENIJA             1003.0                60.0         59.0               47.7                              72.5                         9.9\n",
      "           HRVATSKA             1008.0                63.3         55.4               62.9                              76.9                        10.0\n",
      "          avg value              949.4                54.0         54.7               41.2                              82.8                        22.4\n",
      "      std of values              153.9                 5.0          3.6               20.5                               5.5                        12.5\n"
     ]
    }
   ],
   "source": [
    "#temporaly set expand_frame_repr\n",
    "with pd.option_context('expand_frame_repr', False):\n",
    "    print(df.to_string(index=False))"
   ]
  },
  {
   "cell_type": "code",
   "execution_count": 19,
   "metadata": {},
   "outputs": [
    {
     "name": "stdout",
     "output_type": "stream",
     "text": [
      "Country with highest average age\n",
      "SVERIGE 62.1\n",
      "\n",
      "Country with highest % of Phone Owners\n",
      "DEUTSCHLAND 70.3\n",
      "\n",
      "Country with highest % of internet Users\n",
      "LUXEMBOURG 97.0\n",
      "\n",
      "Country with highest % of Online customers\n",
      "LUXEMBOURG 52.2\n",
      "\n"
     ]
    }
   ],
   "source": [
    "print('Country with highest average age');\n",
    "d1 = df.iloc[df['Average Age'].idxmax()];\n",
    "print(d1['Country'], d1['Average Age']);\n",
    "print();\n",
    "\n",
    "print('Country with highest % of Phone Owners');\n",
    "d2 = df.iloc[df['% Who own a phone'].idxmax()];\n",
    "print(d2['Country'], d2['% Who own a phone']);\n",
    "print();\n",
    "\n",
    "print('Country with highest % of internet Users');\n",
    "d3 = df.iloc[df['% of People who use the Internet'].idxmax()]\n",
    "print(d3['Country'], d3['% of People who use the Internet']);\n",
    "print();\n",
    "\n",
    "print('Country with highest % of Online customers');\n",
    "d4 = df.iloc[df['% of People who buy Online'].idxmax()]\n",
    "print(d4['Country'], d4['% of People who buy Online']);\n",
    "print();"
   ]
  },
  {
   "cell_type": "markdown",
   "metadata": {},
   "source": [
    "### Bar chart showing internet usage per country"
   ]
  },
  {
   "cell_type": "code",
   "execution_count": 20,
   "metadata": {},
   "outputs": [
    {
     "data": {
      "image/png": "[encoded data removed]",
      "text/plain": [
       "<Figure size 1440x576 with 28 Axes>"
      ]
     },
     "metadata": {
      "needs_background": "light"
     },
     "output_type": "display_data"
    }
   ],
   "source": [
    "fig = plt.figure()\n",
    "fig.suptitle('How often do you use the interet', fontsize=16)\n",
    "subplots = {}\n",
    "for index, country in enumerate(entriesByCountry):\n",
    "    entries = entriesByCountry[country];\n",
    "    barfreq = entries['d8a'].value_counts();\n",
    "    subplots[country] = plt.subplot(1, 28, index+1);\n",
    "    subplots[country].set_title(country, size=7)\n",
    "    barfreq.plot.bar(fontsize=8, ax=subplots[country], figsize=(20,8), color=['green', 'red']);"
   ]
  },
  {
   "cell_type": "markdown",
   "metadata": {},
   "source": [
    "### Filter By Age Bracket"
   ]
  },
  {
   "cell_type": "code",
   "execution_count": 21,
   "metadata": {},
   "outputs": [],
   "source": [
    "entriesByAgeBracket = {};\n",
    "\n",
    "under20arr = []\n",
    "over20under40arr = []\n",
    "over40under65arr = []\n",
    "over65arr = [];\n",
    "\n",
    "for i, entry in enumerate(newDatabase['d1']):\n",
    "    floatv = float(entry)\n",
    "    if (floatv < 20):\n",
    "        under20arr.append(newDatabase.iloc[i]);\n",
    "    elif (floatv < 40):\n",
    "        over20under40arr.append(newDatabase.iloc[i]);\n",
    "    elif (floatv < 65):\n",
    "        over40under65arr.append(newDatabase.iloc[i]);\n",
    "    else:\n",
    "        over65arr.append(newDatabase.iloc[i]);\n",
    "        \n",
    "entriesByAgeBracket['under20'] = pd.DataFrame(under20arr)\n",
    "entriesByAgeBracket['over20under40'] = pd.DataFrame(over20under40arr)\n",
    "entriesByAgeBracket['over40under65'] = pd.DataFrame(over40under65arr)\n",
    "entriesByAgeBracket['over65'] = pd.DataFrame(over65arr)"
   ]
  },
  {
   "cell_type": "markdown",
   "metadata": {},
   "source": [
    "### Descriptive statistics by age bracket"
   ]
  },
  {
   "cell_type": "code",
   "execution_count": 22,
   "metadata": {},
   "outputs": [],
   "source": [
    "arr = []\n",
    "for entries in entriesByAgeBracket:\n",
    "    percentInternetUsers = entriesByAgeBracket[entries]['d8a'].astype(\"int64\").mean() * 100;\n",
    "    percentOfFemales = entriesByAgeBracket[entries]['d2'].astype(\"int64\").mean() * 100;\n",
    "    averageAge = entriesByAgeBracket[entries]['d1'].astype('int64').mean();\n",
    "    averagePhoneOwnership = entriesByAgeBracket[entries]['d18'].astype('float64').mean() * 100;\n",
    "    percentageOfOnlineCustomers = entriesByAgeBracket[entries]['q5_6'].astype('int64').mean() * 100;\n",
    "    arr.append([entries, len(entriesByAgeBracket[entries]), round(percentOfFemales,1), round(averageAge,1), round(averagePhoneOwnership,1), round(percentInternetUsers,1), round(percentageOfOnlineCustomers,1)]);\n",
    "    \n",
    "\n",
    "df = pd.DataFrame(arr, columns=['AgeBracket', 'Nb of Respondents','% of Females Asked', 'Average Age', '% Who own a phone', '% of People who use the Internet','% of People who buy Online']);\n",
    "\n",
    "# Add mean\n",
    "mean = ['avg value', round(df['Nb of Respondents'].mean(),1), round(df['% of Females Asked'].mean(),1), round(df['Average Age'].mean(),1), round(df['% Who own a phone'].mean(),1), round(df['% of People who use the Internet'].mean(),1), round(df['% of People who buy Online'].mean(),1)];\n",
    "df.loc[len(df)] = mean;\n",
    "\n",
    "std = ['std of values', round(df['Nb of Respondents'].std(),1), round(df['% of Females Asked'].std(),1), round(df['Average Age'].std(),1), round(df['% Who own a phone'].std(),1), round(df['% of People who use the Internet'].std(),1), round(df['% of People who buy Online'].std(),1)];\n",
    "df.loc[len(df)] = std;"
   ]
  },
  {
   "cell_type": "code",
   "execution_count": 23,
   "metadata": {},
   "outputs": [
    {
     "name": "stdout",
     "output_type": "stream",
     "text": [
      "    AgeBracket  Nb of Respondents  % of Females Asked  Average Age  % Who own a phone  % of People who use the Internet  % of People who buy Online\n",
      "       under20              606.0                44.2         17.5               32.2                              99.7                        54.8\n",
      " over20under40             4909.0                48.3         31.1               20.6                              99.1                        39.9\n",
      " over40under65            12077.0                53.7         52.7               40.2                              91.4                        23.7\n",
      "        over65             8991.0                57.8         73.6               51.9                              61.0                         7.8\n",
      "     avg value             6645.8                51.0         43.7               36.2                              87.8                        31.5\n",
      " std of values             4315.5                 5.2         21.3               11.4                              15.8                        17.6\n"
     ]
    }
   ],
   "source": [
    "#temporaly set expand_frame_repr\n",
    "with pd.option_context('expand_frame_repr', False):\n",
    "    print(df.to_string(index=False))"
   ]
  },
  {
   "cell_type": "code",
   "execution_count": null,
   "metadata": {},
   "outputs": [],
   "source": [
    "    percentInternetUsers = entriesByCountry[entries]['d8a'].astype(\"int64\").mean() * 100;\n",
    "    percentOfFemales = entriesByCountry[entries]['d2'].astype(\"int64\").mean() * 100;\n",
    "    averageAge = entriesByCountry[entries]['d1'].astype('int64').mean();\n",
    "    averagePhoneOwnership = entriesByCountry[entries]['d18'].astype('float64').mean() * 100;\n",
    "    percentageOfOnlineCustomers = entriesByCountry[entries]['q5_6']"
   ]
  },
  {
   "cell_type": "code",
   "execution_count": 38,
   "metadata": {},
   "outputs": [
    {
     "data": {
      "image/png": "[encoded data removed]",
      "text/plain": [
       "<Figure size 900x900 with 20 Axes>"
      ]
     },
     "metadata": {
      "needs_background": "light"
     },
     "output_type": "display_data"
    }
   ],
   "source": [
    "# pair plot\n",
    "newDatabase['useinternet'] = newDatabase['d8a'].astype('int32');\n",
    "newDatabase['female'] = newDatabase['d2'].astype('int32');\n",
    "newDatabase['age'] = newDatabase['d1'].astype('int32');\n",
    "newDatabase['mobilephone'] = newDatabase['d18'].astype('int32');\n",
    "newDatabase['onlinecustomer'] = newDatabase['q5_6'].astype('int32');\n",
    "correlation_data = newDatabase[[\"onlinecustomer\", \"age\", \"female\", \"mobilephone\", \"useinternet\"]] \n",
    "sns.pairplot(correlation_data, kind=\"reg\", corner=True) \n",
    "plt.show()"
   ]
  },
  {
   "cell_type": "code",
   "execution_count": 39,
   "metadata": {},
   "outputs": [
    {
     "data": {
      "image/png": "[encoded data removed]",
      "text/plain": [
       "<Figure size 864x504 with 2 Axes>"
      ]
     },
     "metadata": {
      "needs_background": "light"
     },
     "output_type": "display_data"
    }
   ],
   "source": [
    "# Correlation matrix \n",
    "corr = correlation_data.corr() \n",
    "mask = np.triu(np.ones_like(corr, dtype=np.bool))\n",
    "plt.figure(figsize=(12,7)) \n",
    "sns.heatmap(corr, annot=True, mask=mask, cmap=\"Blues\", xticklabels=False) \n",
    "plt.show()\n",
    "# [\"onlinecustomer\", \"age\", \"female\", \"mobilephone\", \"useinternet\"]"
   ]
  },
  {
   "cell_type": "markdown",
   "metadata": {},
   "source": [
    "### Descriptive statistics by age bracket"
   ]
  },
  {
   "cell_type": "code",
   "execution_count": 24,
   "metadata": {},
   "outputs": [
    {
     "ename": "NameError",
     "evalue": "name 'pieFreq' is not defined",
     "output_type": "error",
     "traceback": [
      "\u001b[1;31m---------------------------------------------------------------------------\u001b[0m",
      "\u001b[1;31mNameError\u001b[0m                                 Traceback (most recent call last)",
      "\u001b[1;32m<ipython-input-24-29d88c66fdb5>\u001b[0m in \u001b[0;36m<module>\u001b[1;34m\u001b[0m\n\u001b[1;32m----> 1\u001b[1;33m \u001b[0max\u001b[0m \u001b[1;33m=\u001b[0m \u001b[0mpieFreq\u001b[0m\u001b[1;33m.\u001b[0m\u001b[0mplot\u001b[0m\u001b[1;33m.\u001b[0m\u001b[0mbar\u001b[0m\u001b[1;33m(\u001b[0m\u001b[0mtitle\u001b[0m \u001b[1;33m=\u001b[0m \u001b[1;34m'Do you buy often online?'\u001b[0m\u001b[1;33m,\u001b[0m \u001b[0mfigsize\u001b[0m\u001b[1;33m=\u001b[0m\u001b[1;33m(\u001b[0m\u001b[1;36m10\u001b[0m\u001b[1;33m,\u001b[0m\u001b[1;36m10\u001b[0m\u001b[1;33m)\u001b[0m\u001b[1;33m,\u001b[0m \u001b[0mcolor\u001b[0m\u001b[1;33m=\u001b[0m\u001b[1;33m[\u001b[0m\u001b[1;34m'green'\u001b[0m\u001b[1;33m]\u001b[0m\u001b[1;33m)\u001b[0m\u001b[1;33m\u001b[0m\u001b[1;33m\u001b[0m\u001b[0m\n\u001b[0m\u001b[0;32m      2\u001b[0m \u001b[0max\u001b[0m\u001b[1;33m.\u001b[0m\u001b[0mget_children\u001b[0m\u001b[1;33m(\u001b[0m\u001b[1;33m)\u001b[0m\u001b[1;33m[\u001b[0m\u001b[1;36m0\u001b[0m\u001b[1;33m]\u001b[0m\u001b[1;33m.\u001b[0m\u001b[0mset_color\u001b[0m\u001b[1;33m(\u001b[0m\u001b[1;34m'r'\u001b[0m\u001b[1;33m)\u001b[0m\u001b[1;33m\u001b[0m\u001b[1;33m\u001b[0m\u001b[0m\n\u001b[0;32m      3\u001b[0m \u001b[0max\u001b[0m\u001b[1;33m.\u001b[0m\u001b[0mget_children\u001b[0m\u001b[1;33m(\u001b[0m\u001b[1;33m)\u001b[0m\u001b[1;33m[\u001b[0m\u001b[1;36m1\u001b[0m\u001b[1;33m]\u001b[0m\u001b[1;33m.\u001b[0m\u001b[0mset_color\u001b[0m\u001b[1;33m(\u001b[0m\u001b[1;34m'orange'\u001b[0m\u001b[1;33m)\u001b[0m\u001b[1;33m\u001b[0m\u001b[1;33m\u001b[0m\u001b[0m\n\u001b[0;32m      4\u001b[0m \u001b[0max\u001b[0m\u001b[1;33m.\u001b[0m\u001b[0mget_children\u001b[0m\u001b[1;33m(\u001b[0m\u001b[1;33m)\u001b[0m\u001b[1;33m[\u001b[0m\u001b[1;36m2\u001b[0m\u001b[1;33m]\u001b[0m\u001b[1;33m.\u001b[0m\u001b[0mset_color\u001b[0m\u001b[1;33m(\u001b[0m\u001b[1;34m'g'\u001b[0m\u001b[1;33m)\u001b[0m\u001b[1;33m\u001b[0m\u001b[1;33m\u001b[0m\u001b[0m\n\u001b[0;32m      5\u001b[0m \u001b[0max\u001b[0m\u001b[1;33m.\u001b[0m\u001b[0mget_children\u001b[0m\u001b[1;33m(\u001b[0m\u001b[1;33m)\u001b[0m\u001b[1;33m[\u001b[0m\u001b[1;36m3\u001b[0m\u001b[1;33m]\u001b[0m\u001b[1;33m.\u001b[0m\u001b[0mset_color\u001b[0m\u001b[1;33m(\u001b[0m\u001b[1;34m'y'\u001b[0m\u001b[1;33m)\u001b[0m\u001b[1;33m\u001b[0m\u001b[1;33m\u001b[0m\u001b[0m\n",
      "\u001b[1;31mNameError\u001b[0m: name 'pieFreq' is not defined"
     ]
    }
   ],
   "source": [
    "ax = pieFreq.plot.bar(title = 'Do you buy often online?', figsize=(10,10), color=['green'])\n",
    "ax.get_children()[0].set_color('r')\n",
    "ax.get_children()[1].set_color('orange')\n",
    "ax.get_children()[2].set_color('g')\n",
    "ax.get_children()[3].set_color('y')"
   ]
  },
  {
   "cell_type": "code",
   "execution_count": 43,
   "metadata": {},
   "outputs": [],
   "source": [
    "arr = [];\n",
    "for entries in entriesByAgeBracket:\n",
    "    internetCount = 0;\n",
    "    totalCount = len(entriesByAgeBracket[entries]);\n",
    "    for entry in entriesByAgeBracket[entries]['d8a']:\n",
    "        if (entry == 'Yes'):\n",
    "            internetCount += 1;\n",
    "    percentInternetUsers = internetCount / totalCount;\n",
    "    percentOnlineBuyers = 0;\n",
    "    arr.append([percentInternetUsers, percentOnlineBuyers]);\n",
    "    \n",
    "df = pd.DataFrame(arr, columns=['% of people who use the internet','% of people who buy online']);"
   ]
  },
  {
   "cell_type": "code",
   "execution_count": null,
   "metadata": {},
   "outputs": [],
   "source": [
    "print(df)"
   ]
  },
  {
   "cell_type": "code",
   "execution_count": null,
   "metadata": {},
   "outputs": [],
   "source": [
    "#Use table rather than graph. average age, percentage of females asked. Age differences acrosse countries. \n",
    "#bar chart to use\n",
    "pieFreq = newDatabase['d20'].value_counts()\n",
    "pieFreq.plot.pie(title = 'Do you buy online?', figsize=(10,10))"
   ]
  },
  {
   "cell_type": "code",
   "execution_count": null,
   "metadata": {},
   "outputs": [],
   "source": [
    "pieDownload_Stream_music = newDatabase['q4_1'].value_counts();\n",
    "pieDownload_Stream_sports = newDatabase['q4_2'].value_counts()\n",
    "pieDownload_Stream_audiovis = newDatabase['q4_3'].value_counts();\n",
    "pieDownload_Stream_ebooks = newDatabase['q4_4'].value_counts();\n",
    "pieDownload_Stream_gaming = newDatabase['q4_5'].value_counts();\n",
    "\n",
    "fig = plt.figure()\n",
    "fig.suptitle('How often do you use the interet to', fontsize=16)\n",
    "q4_1 = plt.subplot(321);\n",
    "q4_2 = plt.subplot(322);\n",
    "q4_3 = plt.subplot(323);\n",
    "q4_4 = plt.subplot(324);\n",
    "q4_5 = plt.subplot(325);\n",
    "\n",
    "q4_1 = pieDownload_Stream_music.plot.pie(title = 'Download or stream Music?', ax=q4_1, figsize=(10,10));\n",
    "q4_2 = pieDownload_Stream_sports.plot.pie(title = 'Download or stream Sports?', ax=q4_2, figsize=(10,10));\n",
    "q4_3 = pieDownload_Stream_audiovis.plot.pie(title = 'Download or stream Audiovisual Content?', ax=q4_3, figsize=(10,10));\n",
    "q4_4 = pieDownload_Stream_ebooks.plot.pie(title = 'Download or stream Ebooks?', ax=q4_4, figsize=(10,10));\n",
    "q4_5 = pieDownload_Stream_gaming.plot.pie(title = 'Download or stream games?', ax=q4_5, figsize=(10,10));"
   ]
  },
  {
   "cell_type": "code",
   "execution_count": null,
   "metadata": {},
   "outputs": [],
   "source": [
    "pieFreq = database['d8a'].value_counts()\n",
    "pieFreq.plot.pie(title = 'How often do you use the internet?', figsize=(10,10))"
   ]
  },
  {
   "cell_type": "code",
   "execution_count": null,
   "metadata": {},
   "outputs": [],
   "source": []
  },
  {
   "cell_type": "code",
   "execution_count": null,
   "metadata": {},
   "outputs": [],
   "source": [
    "#pieDownload_Stream_music = database['q4.1'].value_counts()\n",
    "#pieDownload_Stream_music.plot.pie(title = 'How often did you use the internet do download or stream Music?', figsize=(10,10))\n",
    "#\n",
    "#\n",
    "#pieDownload_Stream_sports = database['d8b'].value_counts()\n",
    "#pieDownload_Stream_sports.plot.pie(title = 'How often did you use the internet do download or stream sports?', figsize=(10,10))\n",
    "#\n",
    "#\n",
    "#pieDownload_Stream_audiovis = database['d8c'].value_counts()\n",
    "#pieDownload_Stream_audiovis.plot.pie(title = 'How often did you use the internet do download or stream audio visual content?', figsize=(10,10))\n",
    "#\n",
    "#\n",
    "#pieDownload_Stream_ebooks = database['d8d'].value_counts()\n",
    "#pieDownload_Stream_ebooks.plot.pie(title = 'How often did you use the internet do download or stream ebooks?', figsize=(10,10))\n",
    "#\n",
    "#pieDownload_Stream_gaming = database['d8e'].value_counts()\n",
    "#pieDownload_Stream_gaming.plot.pie(title = 'How often did you use the internet do download or stream gaming apps?', figsize=(10,10))\n",
    "#\n",
    "\n",
    "keys= database.keys();\n",
    "[print(a) for a in keys]"
   ]
  },
  {
   "cell_type": "code",
   "execution_count": null,
   "metadata": {},
   "outputs": [],
   "source": [
    "##Categorization in function of cultural proximity\n",
    "## Geographical boundaries\n",
    "The modern physical geographic regions of Europe, include:\n",
    "\n",
    "Central_Europe\n",
    "Eastern Europe\n",
    "Northeastern Europe\n",
    "Northern_Europe\n",
    "Northwestern_Europe\n",
    "Southeastern_Europe\n",
    "Southern Europe\n",
    "Southwestern Europe\n",
    "Western Europe\n"
   ]
  },
  {
   "cell_type": "code",
   "execution_count": null,
   "metadata": {},
   "outputs": [],
   "source": [
    "piePayment_Stream_music = database['q5_1'].value_counts();\n",
    "piePayment_Stream_sports = database['q5_2'].value_counts()\n",
    "piePayment_Stream_audiovis = database['q5_3'].value_counts();\n",
    "piePayment_Stream_ebooks = database['q5_4'].value_counts();\n",
    "piePayment_Stream_gaming = database['q5_5'].value_counts();\n",
    "\n",
    "fig = plt.figure()\n",
    "fig.suptitle('Payement for accessed of content', fontsize=16)\n",
    "q5_1 = plt.subplot(321);\n",
    "q5_2 = plt.subplot(322);\n",
    "q5_3 = plt.subplot(323);\n",
    "q5_4 = plt.subplot(324);\n",
    "q5_5 = plt.subplot(325);\n",
    "\n",
    "q5_1 = piePayment_Stream_music.plot.pie(title = 'Download or stream Music?', ax=q5_1, figsize=(10,10));\n",
    "q5_2 = piePayment_Stream_sports.plot.pie(title = 'Download or stream Sports?', ax=q5_2, figsize=(10,10));\n",
    "q5_3 = piePayment_Stream_audiovis.plot.pie(title = 'Download or stream Audiovisual Content?', ax=q5_3, figsize=(10,10));\n",
    "q5_4 = piePayment_Stream_ebooks.plot.pie(title = 'Download or stream Ebooks?', ax=q5_4, figsize=(10,10));\n",
    "q5_5 = piePayment_Stream_gaming.plot.pie(title = 'Download or stream games?', ax=q5_5, figsize=(10,10));"
   ]
  },
  {
   "cell_type": "code",
   "execution_count": null,
   "metadata": {},
   "outputs": [],
   "source": [
    "piePayment_Stream_music = database['q6.1'].value_counts();\n",
    "piePayment_Stream_sports = database['q6.2'].value_counts()\n",
    "piePayment_Stream_audiovis = database['q6.3'].value_counts();\n",
    "piePayment_Stream_ebooks = database['q6.4'].value_counts();\n",
    "piePayment_Stream_gaming = database['q6.5'].value_counts();\n",
    "\n",
    "fig = plt.figure()\n",
    "fig.suptitle('Reasons', fontsize=16)\n",
    "q6_1 = plt.subplot(321);\n",
    "q6_2 = plt.subplot(322);\n",
    "q6_3 = plt.subplot(323);\n",
    "q6_4 = plt.subplot(324);\n",
    "q6_5 = plt.subplot(325);\n",
    "\n",
    "q6_1 = piePayment_Stream_music.plot.pie(title = 'Download or stream Music?', ax=q6_1, figsize=(10,10));\n",
    "q6_2 = piePayment_Stream_sports.plot.pie(title = 'Download or stream Sports?', ax=q6_2, figsize=(10,10));\n",
    "q6_3 = piePayment_Stream_audiovis.plot.pie(title = 'Download or stream Audiovisual Content?', ax=q6_3, figsize=(10,10));\n",
    "q6_4 = piePayment_Stream_ebooks.plot.pie(title = 'Download or stream Ebooks?', ax=q6_4, figsize=(10,10));\n",
    "q6_5 = piePayment_Stream_gaming.plot.pie(title = 'Download or stream games?', ax=q6_5, figsize=(10,10));"
   ]
  },
  {
   "cell_type": "code",
   "execution_count": null,
   "metadata": {},
   "outputs": [],
   "source": [
    "piePossibility1 = database['d9'].value_counts()\n",
    "piePossibility1.plot.pie(title = 'Are you aware of geo-blocking being waived?', figsize=(10,10))"
   ]
  },
  {
   "cell_type": "code",
   "execution_count": null,
   "metadata": {},
   "outputs": [],
   "source": [
    "piePossibility2 = database['d10'].value_counts()\n",
    "piePossibility2.plot.pie(title = 'Do you know you can purchase online?', figsize=(10,10))"
   ]
  },
  {
   "cell_type": "code",
   "execution_count": null,
   "metadata": {},
   "outputs": [],
   "source": []
  }
 ],
 "metadata": {
  "kernelspec": {
   "display_name": "Python 3",
   "language": "python",
   "name": "python3"
  },
  "language_info": {
   "codemirror_mode": {
    "name": "ipython",
    "version": 3
   },
   "file_extension": ".py",
   "mimetype": "text/x-python",
   "name": "python",
   "nbconvert_exporter": "python",
   "pygments_lexer": "ipython3",
   "version": "3.7.1"
  }
 },
 "nbformat": 4,
 "nbformat_minor": 2
}
